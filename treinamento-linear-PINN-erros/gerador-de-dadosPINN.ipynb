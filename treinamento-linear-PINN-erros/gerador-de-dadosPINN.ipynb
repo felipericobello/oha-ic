{
 "cells": [
  {
   "cell_type": "code",
   "execution_count": 31,
   "metadata": {},
   "outputs": [],
   "source": [
    "import numpy as np\n",
    "import matplotlib.pyplot as plt\n",
    "import pandas as pd"
   ]
  },
  {
   "cell_type": "code",
   "execution_count": 32,
   "metadata": {},
   "outputs": [],
   "source": [
    "# DEFINIÇÃO DOS DADOS: INPUT LAYERS (1), HIDDEN LAYERS (32), OUTPUT LAYERS (1)\n",
    "# DADOS DE ENTRADA: INSTANTE DE TEMPO (t)\n",
    "# DADOS DE SAÍDA:   POSIÇÃO EM RELAÇÃO AO INSTANTE DE TEMPO (x)\n",
    "\n",
    "# FUNÇÃO QUE REGE O SISTEMA: x(t)=Ae^(-βt)cos(ω1t + φ); ω1 = sqrt(ω² - β²)"
   ]
  },
  {
   "cell_type": "code",
   "execution_count": 33,
   "metadata": {},
   "outputs": [],
   "source": [
    "def solution(w0, Beta, Amplitude, Phase, Size, TimeInterval):\n",
    "    w1 = np.sqrt(pow(w0, 2) - pow(Beta, 2))\n",
    "    \n",
    "    #x(t) = A*np.exp(-Beta*time)*np.cos(w1*t + phase)\n",
    "    \n",
    "    x = []\n",
    "    tempo = []\n",
    "    for iter in range(Size):\n",
    "        t = (TimeInterval * iter)\n",
    "        tempo.append(t)\n",
    "        xt = Amplitude * np.exp(-Beta*t) * np.cos(w1*t + Phase)\n",
    "        x.append(xt)\n",
    "\n",
    "    x = np.array(x, dtype=np.float16)\n",
    "    t = np.array(t, dtype=np.float16)\n",
    "\n",
    "    return x, tempo"
   ]
  },
  {
   "cell_type": "code",
   "execution_count": 34,
   "metadata": {},
   "outputs": [
    {
     "data": {
      "image/png": "[encoded data removed]",
      "text/plain": [
       "<Figure size 432x288 with 1 Axes>"
      ]
     },
     "metadata": {
      "needs_background": "light"
     },
     "output_type": "display_data"
    },
    {
     "data": {
      "image/png": "[encoded data removed]",
      "text/plain": [
       "<Figure size 432x288 with 1 Axes>"
      ]
     },
     "metadata": {
      "needs_background": "light"
     },
     "output_type": "display_data"
    },
    {
     "name": "stdout",
     "output_type": "stream",
     "text": [
      "μ: 2.880, k: 3.240\n"
     ]
    }
   ],
   "source": [
    "W0   = 1.80\n",
    "BETA = [W0/10, W0/5, W0*0.3, W0*0.4, W0/2, W0*0.6, W0*0.7, W0*0.8]\n",
    "A    = 1.00\n",
    "FASE = 0.00\n",
    "time_units = 6\n",
    "DT   = 0.5\n",
    "SIZE =  (int)(time_units/DT)\n",
    "\n",
    "x, t = [], []\n",
    "\n",
    "for i in range(len(BETA)):\n",
    "    xi, ti = solution(W0, BETA[i], A, FASE, SIZE, DT)\n",
    "    x.append(xi)\n",
    "    t.append(ti)\n",
    "\n",
    "\n",
    "time_units = 15\n",
    "DT   = 0.1\n",
    "SIZE =  (int)(time_units/DT)\n",
    "vx, vt = [], []\n",
    "for i in range(len(BETA)):\n",
    "    xi, ti = solution(W0, BETA[i], A, FASE, SIZE, DT)\n",
    "    vx.append(xi)\n",
    "    vt.append(ti)\n",
    "\n",
    "see = 7\n",
    "\n",
    "\n",
    "plt.plot(t[see], x[see], 'ro')\n",
    "plt.title('Dados de treinamento da rede')\n",
    "plt.xlabel('Tempo [time unit]')\n",
    "plt.ylabel('Posição [pos. unit]')\n",
    "plt.show()\n",
    "\n",
    "plt.plot(vt[see], vx[see], 'r-')\n",
    "plt.title('Dados de validação da rede')\n",
    "plt.xlabel('Tempo [time unit]')\n",
    "plt.ylabel('Posição [pos. unit]')\n",
    "plt.show()\n",
    "\n",
    "# VALOR DE TF = 6 [TIME UNITS]\n",
    "# VALOR DE TP = 15[TIME UNITS]\n",
    "\n",
    "mi, k = 2*BETA[see], W0**2\n",
    "print(f'μ: {mi :.3f}, k: {k  :.3f}')"
   ]
  },
  {
   "cell_type": "code",
   "execution_count": 35,
   "metadata": {},
   "outputs": [],
   "source": [
    "train_dataframe0 = pd.DataFrame({'T': t[0], 'X': x[0]})\n",
    "validation_dataframe0 = pd.DataFrame({'T': vt[0], 'X': vx[0]})\n",
    "\n",
    "train_dataframe1 = pd.DataFrame({'T': t[1], 'X': x[1]})\n",
    "validation_dataframe1 = pd.DataFrame({'T': vt[1], 'X': vx[1]})\n",
    "\n",
    "train_dataframe2 = pd.DataFrame({'T': t[2], 'X': x[2]})\n",
    "validation_dataframe2 = pd.DataFrame({'T': vt[2], 'X': vx[2]})\n",
    "\n",
    "train_dataframe3 = pd.DataFrame({'T': t[3], 'X': x[3]})\n",
    "validation_dataframe3 = pd.DataFrame({'T': vt[3], 'X': vx[3]})\n",
    "\n",
    "train_dataframe4 = pd.DataFrame({'T': t[4], 'X': x[4]})\n",
    "validation_dataframe4 = pd.DataFrame({'T': vt[4], 'X': vx[4]})\n",
    "\n",
    "train_dataframe5 = pd.DataFrame({'T': t[5], 'X': x[5]})\n",
    "validation_dataframe5 = pd.DataFrame({'T': vt[5], 'X': vx[5]})\n",
    "\n",
    "train_dataframe6 = pd.DataFrame({'T': t[6], 'X': x[6]})\n",
    "validation_dataframe6 = pd.DataFrame({'T': vt[6], 'X': vx[6]})\n",
    "\n",
    "train_dataframe7 = pd.DataFrame({'T': t[7], 'X': x[7]})\n",
    "validation_dataframe7 = pd.DataFrame({'T': vt[7], 'X': vx[7]})\n",
    "\n",
    "savet = 'training-oha' # define o arquivo como treinamento ou teste\n",
    "savev = 'validation-oha'\n",
    "\n",
    "savetpkl, savevpkl = [], []\n",
    "\n",
    "for i in range(len(BETA)):\n",
    "    savetpkl.append(savet+f'{i}'+'.pkl')  #.pkl responde melhor ao pandas do que o .csv\n",
    "    savevpkl.append(savev+f'{i}'+'.pkl')\n",
    "\n",
    "train_dataframe0.to_pickle(savetpkl[0])\n",
    "validation_dataframe0.to_pickle(savevpkl[0])\n",
    "\n",
    "train_dataframe1.to_pickle(savetpkl[1])\n",
    "validation_dataframe1.to_pickle(savevpkl[1])\n",
    "\n",
    "train_dataframe2.to_pickle(savetpkl[2])\n",
    "validation_dataframe2.to_pickle(savevpkl[2])\n",
    "\n",
    "train_dataframe3.to_pickle(savetpkl[3])\n",
    "validation_dataframe3.to_pickle(savevpkl[3])\n",
    "\n",
    "train_dataframe4.to_pickle(savetpkl[4])\n",
    "validation_dataframe4.to_pickle(savevpkl[4])\n",
    "\n",
    "train_dataframe5.to_pickle(savetpkl[5])\n",
    "validation_dataframe5.to_pickle(savevpkl[5])\n",
    "\n",
    "train_dataframe6.to_pickle(savetpkl[6])\n",
    "validation_dataframe6.to_pickle(savevpkl[6])\n",
    "\n",
    "train_dataframe7.to_pickle(savetpkl[7])\n",
    "validation_dataframe7.to_pickle(savevpkl[7])\n"
   ]
  }
 ],
 "metadata": {
  "kernelspec": {
   "display_name": "pytorch-cuda11.3",
   "language": "python",
   "name": "python3"
  },
  "language_info": {
   "codemirror_mode": {
    "name": "ipython",
    "version": 3
   },
   "file_extension": ".py",
   "mimetype": "text/x-python",
   "name": "python",
   "nbconvert_exporter": "python",
   "pygments_lexer": "ipython3",
   "version": "3.9.12"
  },
  "orig_nbformat": 4,
  "vscode": {
   "interpreter": {
    "hash": "1ecf4855ac3054153cb32a566375621934de42d4bb3f19a1ac18025b10a022b6"
   }
  }
 },
 "nbformat": 4,
 "nbformat_minor": 2
}
