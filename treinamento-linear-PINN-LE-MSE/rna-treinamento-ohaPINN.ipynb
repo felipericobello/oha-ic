{
 "cells": [
  {
   "cell_type": "code",
   "execution_count": 98,
   "metadata": {},
   "outputs": [],
   "source": [
    "import torch \n",
    "import torch.nn as nn\n",
    "\n",
    "import numpy as np\n",
    "import matplotlib.pyplot as plt\n",
    "import pandas as pd"
   ]
  },
  {
   "cell_type": "code",
   "execution_count": 99,
   "metadata": {},
   "outputs": [
    {
     "data": {
      "text/plain": [
       "20"
      ]
     },
     "execution_count": 99,
     "metadata": {},
     "output_type": "execute_result"
    }
   ],
   "source": [
    "class Data():\n",
    "    def __init__(self, filename):\n",
    "        data = pd.read_pickle(filename)\n",
    "        d_time = data.drop(columns=['X'])\n",
    "        d_pos  = data.drop(columns=['T'])\n",
    "        t = d_time.iloc[:, :].values\n",
    "        x =  d_pos.iloc[:, :].values\n",
    "\n",
    "        self.t = torch.tensor(t, requires_grad=True, dtype=torch.float)\n",
    "        self.x = torch.tensor(x, requires_grad=True, dtype=torch.float)\n",
    "\n",
    "    def __len__(self):\n",
    "        return len(self.t)\n",
    "    \n",
    "    def __getparams__(self):\n",
    "        return self.t, self.x\n",
    "\n",
    "    def __getitem__(self, idx):\n",
    "        return self.t[idx], self.x[idx]\n",
    "\n",
    "\n",
    "data  = Data('training-oha.pkl')  \n",
    "vdata = Data('validation-oha.pkl') \n",
    "data.__len__()"
   ]
  },
  {
   "cell_type": "code",
   "execution_count": 100,
   "metadata": {},
   "outputs": [
    {
     "name": "stdout",
     "output_type": "stream",
     "text": [
      "OHAModel(\n",
      "  (linear): Sequential(\n",
      "    (0): Linear(in_features=1, out_features=32, bias=True)\n",
      "    (1): Sigmoid()\n",
      "    (2): Linear(in_features=32, out_features=1, bias=True)\n",
      "  )\n",
      ")\n"
     ]
    }
   ],
   "source": [
    "class OHAModel(nn.Module):\n",
    "    def __init__(self):\n",
    "        super(OHAModel, self).__init__()\n",
    "        self.linear = nn.Sequential(nn.Linear(1, 32), nn.Sigmoid(), nn.Linear(32, 32), nn.Sigmoid(), nn.Linear(32, 1)) # 1 InputL, 32 HiddenL, 1 OutputL\n",
    "\n",
    "    def forward(self, t):\n",
    "        out = self.linear(t)\n",
    "        return out\n",
    "\n",
    "model = OHAModel()\n",
    "print(model)"
   ]
  },
  {
   "cell_type": "code",
   "execution_count": 101,
   "metadata": {},
   "outputs": [],
   "source": [
    "optimiser = torch.optim.Adam(model.parameters())"
   ]
  },
  {
   "cell_type": "code",
   "execution_count": 102,
   "metadata": {},
   "outputs": [],
   "source": [
    "# Custom loss function:\n",
    "# Função base:\n",
    "\n",
    "class OHALoss(nn.Module):\n",
    "    def __init__(self):\n",
    "        super(OHALoss, self).__init__()\n",
    "\n",
    "    def df(self, output : torch.Tensor, t: torch.Tensor = None, order : int=1) -> torch.Tensor:\n",
    "        for _ in range(order):\n",
    "            output = torch.autograd.grad(output, t, grad_outputs=torch.ones_like(t), create_graph=True, retain_graph=True)[0]\n",
    "            \n",
    "        return output\n",
    "\n",
    "\n",
    "    def forward(self, t_physics : torch.Tensor, physics_output : torch.Tensor, output : torch.Tensor, target : torch.Tensor, alpha, k):\n",
    "        # DE contribution\n",
    "        LossDE = self.df(physics_output, t_physics, order=2) + (alpha/t_physics)*self.df(physics_output, t_physics, order=1) + (k)*physics_output \n",
    "\n",
    "        #MSE\n",
    "        LossMSE = (target - output)\n",
    "\n",
    "        #BOUNDARY CONDITION\n",
    "\n",
    "        #BC = torch.tensor([amplitude_inicial], dtype=torch.float32, requires_grad=True)\n",
    "        #LossBC = (BC - BC_output)\n",
    "        #LossBCd = self.df(BC_output, t_zero, order=1)\n",
    "\n",
    "        Loss = LossDE.pow(2).mean() + LossMSE.pow(2).mean()\n",
    "\n",
    "        return Loss\n",
    "\n",
    "\n",
    "\n"
   ]
  },
  {
   "cell_type": "code",
   "execution_count": 103,
   "metadata": {},
   "outputs": [
    {
     "name": "stdout",
     "output_type": "stream",
     "text": [
      "Epoch: 0 - Loss: 243.992416\n",
      "Epoch: 1000 - Loss: 0.142394\n",
      "Epoch: 2000 - Loss: 0.123743\n",
      "Epoch: 3000 - Loss: 0.121756\n",
      "Epoch: 4000 - Loss: 0.121206\n",
      "Epoch: 5000 - Loss: 0.121146\n",
      "Epoch: 6000 - Loss: 0.121131\n",
      "Epoch: 7000 - Loss: 0.121114\n",
      "Epoch: 8000 - Loss: 0.121101\n",
      "Epoch: 9000 - Loss: 0.121090\n",
      "Epoch: 10000 - Loss: 0.121084\n",
      "Epoch: 11000 - Loss: 0.121080\n",
      "Epoch: 12000 - Loss: 0.122181\n",
      "Epoch: 13000 - Loss: 0.121075\n",
      "Epoch: 14000 - Loss: 0.156114\n",
      "Epoch: 15000 - Loss: 0.123793\n",
      "Epoch: 16000 - Loss: 0.121073\n",
      "Epoch: 17000 - Loss: 0.121073\n",
      "Epoch: 18000 - Loss: 0.121073\n",
      "Epoch: 19000 - Loss: 0.121099\n"
     ]
    }
   ],
   "source": [
    "loss_func = OHALoss()\n",
    "t_physics = torch.linspace(0.01, 5, 300, requires_grad=True).view(-1,1)\n",
    "t_zero = torch.tensor([0.0], dtype=torch.float32, requires_grad=True).view(-1,1)\n",
    "\n",
    "# t_physics determina o domínio da função que a rede pode prever. Desse modo, caso haja necessidade de uma previsão com t > 10, a rede não será capaz de definir \\\n",
    "# e outro treinamento deverá ser realizado\n",
    "\n",
    "w0 = 8.00\n",
    "alpha = 2.00\n",
    "k  = pow(w0, 2)\n",
    "amplitude_inicial = 1.0\n",
    "\n",
    "epochs = 20000\n",
    "for epoch in range(epochs):\n",
    "    optimiser.zero_grad()\n",
    "\n",
    "    physics_outputs = model(t_physics)\n",
    "    output = model(t_zero)\n",
    "\n",
    "    loss = loss_func(t_physics, physics_outputs, output, data.x, alpha, k)\n",
    "    \n",
    "    loss.backward()\n",
    "    optimiser.step()\n",
    "    \n",
    "    if epoch % 1000 == 0:\n",
    "         with torch.autograd.no_grad():\n",
    "            print(f\"Epoch: {epoch} - Loss: {float(loss.item()):>7f}\")\n"
   ]
  },
  {
   "cell_type": "code",
   "execution_count": 104,
   "metadata": {},
   "outputs": [
    {
     "name": "stdout",
     "output_type": "stream",
     "text": [
      "Saved PyTorch Model State to model.pth\n"
     ]
    }
   ],
   "source": [
    "torch.save(model.state_dict(), \"model.pth\")\n",
    "print(\"Saved PyTorch Model State to model.pth\")"
   ]
  },
  {
   "cell_type": "code",
   "execution_count": 105,
   "metadata": {},
   "outputs": [
    {
     "data": {
      "image/png": "[encoded data removed]",
      "text/plain": [
       "<Figure size 640x480 with 1 Axes>"
      ]
     },
     "metadata": {},
     "output_type": "display_data"
    }
   ],
   "source": [
    "model = OHAModel()\n",
    "model.load_state_dict(torch.load(\"model.pth\"))\n",
    "\n",
    "predicted = model(vdata.t).detach().numpy()\n",
    "vt = vdata.t.detach().numpy()\n",
    "vx = vdata.x.detach().numpy()\n",
    "\n",
    "t = data.t.detach().numpy()\n",
    "x = data.x.detach().numpy()\n",
    "\n",
    "plt.plot(vt, vx, color='tab:gray', linestyle=':', label='Valor esperado')\n",
    "plt.plot(vt, predicted, color='xkcd:blue', linestyle='solid', label = 'Valor previsto')\n",
    "plt.plot(t, x, color='xkcd:orange', marker='o', linestyle='none', label = 'Dados providos')\n",
    "plt.xlim([0, 5])\n",
    "plt.ylim([-1, 1])\n",
    "plt.title(f'Ciclos de treinamento: {epochs}')\n",
    "plt.legend(loc=1)\n",
    "plt.grid(True, alpha=0.3)\n",
    "plt.savefig('grafico-oha.jpg')\n",
    "plt.show()"
   ]
  },
  {
   "attachments": {},
   "cell_type": "markdown",
   "metadata": {},
   "source": [
    "# Cálculo do erro"
   ]
  },
  {
   "cell_type": "code",
   "execution_count": 106,
   "metadata": {},
   "outputs": [
    {
     "ename": "AttributeError",
     "evalue": "'numpy.ndarray' object has no attribute 'detach'",
     "output_type": "error",
     "traceback": [
      "\u001b[1;31m---------------------------------------------------------------------------\u001b[0m",
      "\u001b[1;31mAttributeError\u001b[0m                            Traceback (most recent call last)",
      "\u001b[1;32mc:\\Users\\felip\\OneDrive\\Documentos\\oha-ic\\treinamento-linear-PINN-LE-MSE\\rna-treinamento-ohaPINN.ipynb Cell 10\u001b[0m in \u001b[0;36m1\n\u001b[1;32m----> <a href='vscode-notebook-cell:/c%3A/Users/felip/OneDrive/Documentos/oha-ic/treinamento-linear-PINN-LE-MSE/rna-treinamento-ohaPINN.ipynb#X12sZmlsZQ%3D%3D?line=0'>1</a>\u001b[0m previsto \u001b[39m=\u001b[39m predicted\u001b[39m.\u001b[39;49mdetach()\u001b[39m.\u001b[39mnumpy()[:\u001b[39m101\u001b[39m]\n\u001b[0;32m      <a href='vscode-notebook-cell:/c%3A/Users/felip/OneDrive/Documentos/oha-ic/treinamento-linear-PINN-LE-MSE/rna-treinamento-ohaPINN.ipynb#X12sZmlsZQ%3D%3D?line=1'>2</a>\u001b[0m esperado \u001b[39m=\u001b[39m vdata\u001b[39m.\u001b[39mx\u001b[39m.\u001b[39mdetach()\u001b[39m.\u001b[39mnumpy()[:\u001b[39m101\u001b[39m]\n\u001b[0;32m      <a href='vscode-notebook-cell:/c%3A/Users/felip/OneDrive/Documentos/oha-ic/treinamento-linear-PINN-LE-MSE/rna-treinamento-ohaPINN.ipynb#X12sZmlsZQ%3D%3D?line=3'>4</a>\u001b[0m erro \u001b[39m=\u001b[39m previsto \u001b[39m-\u001b[39m esperado\n",
      "\u001b[1;31mAttributeError\u001b[0m: 'numpy.ndarray' object has no attribute 'detach'"
     ]
    }
   ],
   "source": [
    "previsto = predicted.detach().numpy()[:101]\n",
    "esperado = vdata.x.detach().numpy()[:101]\n",
    "\n",
    "erro = previsto - esperado\n",
    "erro_maximo = erro[np.argmax(erro)][0]\n",
    "\n",
    "print(f'Erro máximo encontrado na rede: {erro_maximo :.4f}')\n",
    "\n",
    "erro_medio = np.mean(erro)\n",
    "\n",
    "print(f'Erro médio encontrado na rede: {erro_medio :.4f}')\n",
    "\n",
    "erro_quadratico_medio = np.power(erro, 2)\n",
    "erro_quadratico_medio = np.mean(erro_quadratico_medio)\n",
    "\n",
    "print(f'Erro quadrático médio encontrado na rede: {erro_quadratico_medio :.4f}')"
   ]
  }
 ],
 "metadata": {
  "kernelspec": {
   "display_name": "pytorch-cuda11.3",
   "language": "python",
   "name": "python3"
  },
  "language_info": {
   "codemirror_mode": {
    "name": "ipython",
    "version": 3
   },
   "file_extension": ".py",
   "mimetype": "text/x-python",
   "name": "python",
   "nbconvert_exporter": "python",
   "pygments_lexer": "ipython3",
   "version": "3.9.15"
  },
  "orig_nbformat": 4,
  "vscode": {
   "interpreter": {
    "hash": "1ecf4855ac3054153cb32a566375621934de42d4bb3f19a1ac18025b10a022b6"
   }
  }
 },
 "nbformat": 4,
 "nbformat_minor": 2
}
