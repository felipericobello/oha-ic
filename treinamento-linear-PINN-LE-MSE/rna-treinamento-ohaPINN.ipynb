{
 "cells": [
  {
   "cell_type": "code",
   "execution_count": 32,
   "metadata": {},
   "outputs": [],
   "source": [
    "import torch \n",
    "import torch.nn as nn\n",
    "\n",
    "import numpy as np\n",
    "import matplotlib.pyplot as plt\n",
    "import pandas as pd"
   ]
  },
  {
   "cell_type": "code",
   "execution_count": 33,
   "metadata": {},
   "outputs": [
    {
     "name": "stdout",
     "output_type": "stream",
     "text": [
      "Número de dados de treinamento: 20\n",
      "Número de dados de validação: 100\n"
     ]
    }
   ],
   "source": [
    "# Classe que importa os dados gerados em gerador-de-dadosPINN.ipynb\n",
    "# Decidi não importar os valores das constantes, como ω e β por enquanto(preferi evitar mais algumas colunas na tabela e manter simplesmente a função x(t) para facilitar o entendimento). \\\n",
    "# Logo, para o treinamento PINN, reescrevi esses valores (hardcoding) antes de treinar a rede, mas pretendo mudar isso no futuro. \n",
    "# Exemplo:\n",
    "#   α=2.0\n",
    "#   ω=8.0\n",
    "#   k=ω²\n",
    "\n",
    "# device padrão: CPU.\n",
    "\n",
    "class Data():\n",
    "    def __init__(self, filename):\n",
    "        data = pd.read_pickle(filename)\n",
    "        d_time = data.drop(columns=['X'])\n",
    "        d_pos  = data.drop(columns=['T'])\n",
    "        t = d_time.iloc[:, :].values\n",
    "        x =  d_pos.iloc[:, :].values\n",
    "\n",
    "        self.t = torch.tensor(t, requires_grad=True, dtype=torch.float)\n",
    "        self.x = torch.tensor(x, requires_grad=True, dtype=torch.float)\n",
    "\n",
    "    def __len__(self):\n",
    "        return len(self.t)\n",
    "    \n",
    "    def __getparams__(self):\n",
    "        return self.t, self.x\n",
    "\n",
    "    def __getitem__(self, idx):\n",
    "        return self.t[idx], self.x[idx]\n",
    "\n",
    "\n",
    "data  = Data('training-oha.pkl')  \n",
    "vdata = Data('validation-oha.pkl') \n",
    "# Diferentemente dos treinamentos passados, neste eu mudei os nomes das variáveis. O \"x\" virou \"t\", e o \"y\" virou \"x\". Sendo assim, representa melhor a função x(t) do problema.\n",
    "# Isso me confundiu algumas vezes nos códigos passados, então decidi mudar neste. No entanto, isso não muda em nada os resultados obtidos, tanto desse, como dos outros experimentos.\n",
    "\n",
    "# Ou seja,\n",
    "#     y(x) -> x(t)\n",
    "#   data.x -> data.t\n",
    "#   data.y -> data.x\n",
    "\n",
    "\n",
    "print(f\"Número de dados de treinamento: {data.__len__()}\")\n",
    "print(f\"Número de dados de validação: {vdata.__len__()}\")"
   ]
  },
  {
   "cell_type": "code",
   "execution_count": 34,
   "metadata": {},
   "outputs": [
    {
     "name": "stdout",
     "output_type": "stream",
     "text": [
      "Estrutura da rede neural: \n",
      "\n",
      "OHAModel(\n",
      "  (linear): Sequential(\n",
      "    (0): Linear(in_features=1, out_features=32, bias=True)\n",
      "    (1): Sigmoid()\n",
      "    (2): Linear(in_features=32, out_features=1, bias=True)\n",
      "  )\n",
      ")\n"
     ]
    }
   ],
   "source": [
    "class OHAModel(nn.Module):\n",
    "    def __init__(self):\n",
    "        super(OHAModel, self).__init__()\n",
    "        self.linear = nn.Sequential(nn.Linear(1, 32), nn.Sigmoid(), nn.Linear(32, 1)) # 1 InputL, 32 HiddenL, 1 OutputL. Estrutura da Rede Neural\n",
    "\n",
    "    def forward(self, t):\n",
    "        out = self.linear(t)\n",
    "        return out\n",
    "\n",
    "model = OHAModel()\n",
    "print(\"Estrutura da rede neural: \\n\")\n",
    "print(model)"
   ]
  },
  {
   "cell_type": "code",
   "execution_count": 35,
   "metadata": {},
   "outputs": [],
   "source": [
    "optimiser = torch.optim.Adam(model.parameters()) # Otimizador do modelo"
   ]
  },
  {
   "cell_type": "code",
   "execution_count": 36,
   "metadata": {},
   "outputs": [],
   "source": [
    "# Custom loss function:\n",
    "# Função base:\n",
    "\n",
    "class OHALoss(nn.Module):\n",
    "    def __init__(self):\n",
    "        super(OHALoss, self).__init__()\n",
    "\n",
    "    def df(self, output : torch.Tensor, t: torch.Tensor = None, order : int=1) -> torch.Tensor: # Principal elemento de uma PINN. Aqui é onde a auto-diferenciação funciona.\n",
    "        for _ in range(order):\n",
    "            output = torch.autograd.grad(output, t, grad_outputs=torch.ones_like(t), create_graph=True, retain_graph=True)[0]\n",
    "            \n",
    "        return output\n",
    "\n",
    "\n",
    "    def forward(self, t_physics : torch.Tensor, physics_output : torch.Tensor, output : torch.Tensor, target : torch.Tensor, coef, k):\n",
    "        # DE contribution\n",
    "        LossDE = self.df(physics_output, t_physics, order=2) + (coef)*self.df(physics_output, t_physics, order=1) + (k)*physics_output # Entender a razão do erro em coef. variáveis.\n",
    "\n",
    "        #MSE loss\n",
    "        LossMSE = (target - output)\n",
    "\n",
    "        Loss = LossMSE.pow(2).mean() + LossDE.pow(2).mean() # Para entender como a rede se comporta caso utilize o treinamento tradicional(MSE), colocar o \"#\" antes do \"+\" em \"+ LossDE...\".\n",
    "\n",
    "        return Loss\n",
    "\n",
    "\n",
    "\n"
   ]
  },
  {
   "cell_type": "code",
   "execution_count": 37,
   "metadata": {},
   "outputs": [
    {
     "name": "stdout",
     "output_type": "stream",
     "text": [
      "Epoch: 0 - Loss: 364.048859\n"
     ]
    },
    {
     "name": "stdout",
     "output_type": "stream",
     "text": [
      "Epoch: 1000 - Loss: 0.125390\n",
      "Epoch: 2000 - Loss: 0.123773\n",
      "Epoch: 3000 - Loss: 0.122445\n",
      "Epoch: 4000 - Loss: 0.121473\n",
      "Epoch: 5000 - Loss: 0.121055\n",
      "Epoch: 6000 - Loss: 0.120976\n",
      "Epoch: 7000 - Loss: 0.120971\n",
      "Epoch: 8000 - Loss: 0.121181\n",
      "Epoch: 9000 - Loss: 0.120970\n"
     ]
    }
   ],
   "source": [
    "loss_func = OHALoss()\n",
    "t_physics = torch.linspace(0.01, 5, 900, requires_grad=True).view(-1,1) # Domínio: R[0.01, 5]\n",
    "\n",
    "# t_physics determina o domínio da função que a rede pode prever. Desse modo, caso haja necessidade de uma previsão com t > 5, a rede não será capaz de definir \\\n",
    "# e outro treinamento deverá ser realizado\n",
    "\n",
    "w0 = 8.00\n",
    "alpha = 2.00\n",
    "coef = (alpha/t_physics).clone().detach().requires_grad_(True) # Coeficiente variável de acordo com o tempo / análogo ao coeficiente de atrito μ(t)\n",
    "# O coeficiente variável é a principal causa do problema atual.\n",
    "# Encontrar um jeito de utilizar o autograd e LossDE com ele.\n",
    "\n",
    "k  = pow(w0, 2)\n",
    "\n",
    "epochs = 10000\n",
    "for epoch in range(epochs):\n",
    "    optimiser.zero_grad() \n",
    "\n",
    "    physics_outputs = model(t_physics) # Previsão da rede necessária para melhor eficiência do autograd. Possui dimensão de 900 passos por previsão.\n",
    "\n",
    "\n",
    "    output = model(data.t) # Retorno da rede quando colocada em função dos dados gerados (possui a mesma dimensão e tamanho para ser comparada \\    \n",
    "    # ao target da rede na loss MSE.\n",
    "\n",
    "    loss = loss_func(t_physics, physics_outputs, output, data.x, coef, k)\n",
    "    \n",
    "    loss.backward()\n",
    "    optimiser.step()\n",
    "    \n",
    "    if epoch % 1000 == 0:\n",
    "         with torch.autograd.no_grad():\n",
    "            print(f\"Epoch: {epoch} - Loss: {float(loss.item()):>7f}\")\n"
   ]
  },
  {
   "cell_type": "code",
   "execution_count": 38,
   "metadata": {},
   "outputs": [
    {
     "name": "stdout",
     "output_type": "stream",
     "text": [
      "Saved PyTorch Model State to model.pth\n"
     ]
    }
   ],
   "source": [
    "torch.save(model.state_dict(), \"model.pth\") # Salva o modelo para usos futuros.\n",
    "print(\"Saved PyTorch Model State to model.pth\")"
   ]
  },
  {
   "cell_type": "code",
   "execution_count": 41,
   "metadata": {},
   "outputs": [
    {
     "data": {
      "image/png": "[encoded data removed]",
      "text/plain": [
       "<Figure size 640x480 with 1 Axes>"
      ]
     },
     "metadata": {},
     "output_type": "display_data"
    }
   ],
   "source": [
    "model = OHAModel()\n",
    "model.load_state_dict(torch.load(\"model.pth\"))\n",
    "\n",
    "predicted = model(vdata.t).detach().numpy() # Previsão da rede.\n",
    "\n",
    "# Passando os dados para numpy a fim de imprimir o gráfico.\n",
    "vt = vdata.t.detach().numpy()\n",
    "vx = vdata.x.detach().numpy()\n",
    "\n",
    "t = data.t.detach().numpy()\n",
    "x = data.x.detach().numpy()\n",
    "\n",
    "plt.plot(vt, vx, color='tab:gray', linestyle=':', label='Valor esperado')\n",
    "plt.plot(vt, predicted, color='xkcd:blue', linestyle='solid', label = 'Valor previsto')\n",
    "plt.plot(t, x, color='xkcd:orange', marker='o', linestyle='none', label = 'Dados providos')\n",
    "plt.xlim([0, 5])\n",
    "plt.ylim([-1, 1])\n",
    "plt.title(f'Ciclos de treinamento: {epochs}')\n",
    "plt.xlabel('Tempo [unidade de tempo]')\n",
    "plt.ylabel('Posição [unidade de pos.]')\n",
    "plt.legend(loc=1)\n",
    "plt.grid(True, alpha=0.3)\n",
    "plt.savefig('grafico-oha.jpg', dpi=150)\n",
    "plt.show()"
   ]
  },
  {
   "attachments": {},
   "cell_type": "markdown",
   "metadata": {},
   "source": [
    "# Cálculo do erro"
   ]
  },
  {
   "cell_type": "code",
   "execution_count": 40,
   "metadata": {},
   "outputs": [
    {
     "name": "stdout",
     "output_type": "stream",
     "text": [
      "Erro máximo encontrado na rede: 0.2184\n",
      "Erro médio encontrado na rede: -0.0425\n",
      "Erro quadrático médio encontrado na rede: 0.0437\n"
     ]
    }
   ],
   "source": [
    "previsto = predicted[:101]\n",
    "esperado = vdata.x.detach().numpy()[:101]\n",
    "\n",
    "erro = previsto - esperado\n",
    "erro_maximo = erro[np.argmax(erro)][0]\n",
    "\n",
    "print(f'Erro máximo encontrado na rede: {erro_maximo :.4f}')\n",
    "\n",
    "erro_medio = np.mean(erro)\n",
    "\n",
    "print(f'Erro médio encontrado na rede: {erro_medio :.4f}')\n",
    "\n",
    "erro_quadratico_medio = np.power(erro, 2)\n",
    "erro_quadratico_medio = np.mean(erro_quadratico_medio)\n",
    "\n",
    "print(f'Erro quadrático médio encontrado na rede: {erro_quadratico_medio :.4f}')"
   ]
  }
 ],
 "metadata": {
  "kernelspec": {
   "display_name": "pytorch-cuda11.3",
   "language": "python",
   "name": "python3"
  },
  "language_info": {
   "codemirror_mode": {
    "name": "ipython",
    "version": 3
   },
   "file_extension": ".py",
   "mimetype": "text/x-python",
   "name": "python",
   "nbconvert_exporter": "python",
   "pygments_lexer": "ipython3",
   "version": "3.10.9"
  },
  "orig_nbformat": 4,
  "vscode": {
   "interpreter": {
    "hash": "1ecf4855ac3054153cb32a566375621934de42d4bb3f19a1ac18025b10a022b6"
   }
  }
 },
 "nbformat": 4,
 "nbformat_minor": 2
}
