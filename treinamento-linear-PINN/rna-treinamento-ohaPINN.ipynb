{
 "cells": [
  {
   "cell_type": "code",
   "execution_count": 807,
   "metadata": {},
   "outputs": [],
   "source": [
    "import torch \n",
    "import torch.nn as nn\n",
    "\n",
    "import numpy as np\n",
    "import matplotlib.pyplot as plt\n",
    "import pandas as pd"
   ]
  },
  {
   "cell_type": "code",
   "execution_count": 808,
   "metadata": {},
   "outputs": [],
   "source": [
    "class Data():\n",
    "    def __init__(self, filename):\n",
    "        data = pd.read_pickle(filename)\n",
    "        d_time = data.drop(columns=['X'])\n",
    "        d_pos  = data.drop(columns=['T'])\n",
    "        x = d_time.iloc[:, :].values\n",
    "        y =  d_pos.iloc[:, :].values\n",
    "\n",
    "        self.x = torch.tensor(x, requires_grad=True, dtype=torch.float)\n",
    "        self.y = torch.tensor(y, requires_grad=True, dtype=torch.float)\n",
    "\n",
    "    def __len__(self):\n",
    "        return len(self.x)\n",
    "    \n",
    "    def __getparams__(self):\n",
    "        return self.x, self.y\n",
    "\n",
    "    def __getitem__(self, idx):\n",
    "        return self.x[idx], self.y[idx]\n",
    "\n",
    "\n",
    "data  = Data('training-oha.pkl')  \n",
    "vdata = Data('validation-oha.pkl') \n",
    "#data.__getparams__()"
   ]
  },
  {
   "cell_type": "code",
   "execution_count": 809,
   "metadata": {},
   "outputs": [
    {
     "name": "stdout",
     "output_type": "stream",
     "text": [
      "OHAModel(\n",
      "  (linear): Sequential(\n",
      "    (0): Linear(in_features=1, out_features=32, bias=True)\n",
      "    (1): Tanh()\n",
      "    (2): Linear(in_features=32, out_features=1, bias=True)\n",
      "  )\n",
      ")\n"
     ]
    }
   ],
   "source": [
    "class OHAModel(nn.Module):\n",
    "    def __init__(self):\n",
    "        super(OHAModel, self).__init__()\n",
    "        self.linear = nn.Sequential(nn.Linear(1, 32), nn.Tanh(), nn.Linear(32, 1)) # 1 InputL, 32 HiddenL, 1 OutputL\n",
    "\n",
    "    def forward(self, x):\n",
    "        out = self.linear(x)\n",
    "        return out\n",
    "\n",
    "model = OHAModel()\n",
    "print(model)"
   ]
  },
  {
   "cell_type": "code",
   "execution_count": 810,
   "metadata": {},
   "outputs": [],
   "source": [
    "optimiser = torch.optim.Adam(model.parameters())"
   ]
  },
  {
   "cell_type": "code",
   "execution_count": 811,
   "metadata": {},
   "outputs": [],
   "source": [
    "# Custom loss function:\n",
    "# Função base:\n",
    "\n",
    "class OHALoss(nn.Module):\n",
    "    def __init__(self):\n",
    "        super(OHALoss, self).__init__()\n",
    "\n",
    "    def df(self, output : torch.Tensor, x: torch.Tensor = None, order : int=1) -> torch.Tensor:\n",
    "\n",
    "        for _ in range(order):\n",
    "            output = torch.autograd.grad(output, x, grad_outputs=torch.ones_like(x), create_graph=True, retain_graph=True)[0]\n",
    "            \n",
    "        return output\n",
    "\n",
    "\n",
    "    def forward(self, x_physics : torch.Tensor, physics_output : torch.Tensor, BC_output : torch.Tensor, mi, k, y_zero):\n",
    "        # DE contribution\n",
    "        LossDE = self.df(physics_output, x_physics, order=2) + (mi)*self.df(physics_output, x_physics, order=1) + (k)*physics_output \n",
    "\n",
    "        #BOUNDARY CONDITION => y0(x0) = y0\n",
    "        # y0 = 5.0 (de acordo com os dados gerados)\n",
    "        BC = torch.tensor([y_zero], dtype=torch.float32)\n",
    "        LossBC = (BC_output - BC)\n",
    "\n",
    "        Loss = LossDE.pow(2).mean() + LossBC.pow(2).mean()\n",
    "\n",
    "        return Loss\n",
    "\n",
    "\n",
    "\n"
   ]
  },
  {
   "cell_type": "code",
   "execution_count": 812,
   "metadata": {},
   "outputs": [
    {
     "name": "stdout",
     "output_type": "stream",
     "text": [
      "Epoch: 0 - Loss: 22.160242\n",
      "Epoch: 1000 - Loss: 4.103291\n",
      "Epoch: 2000 - Loss: 2.260380\n",
      "Epoch: 3000 - Loss: 1.568869\n",
      "Epoch: 4000 - Loss: 1.099918\n",
      "Epoch: 5000 - Loss: 0.930945\n",
      "Epoch: 6000 - Loss: 0.848165\n",
      "Epoch: 7000 - Loss: 0.792079\n",
      "Epoch: 8000 - Loss: 0.747984\n",
      "Epoch: 9000 - Loss: 0.717154\n",
      "Epoch: 10000 - Loss: 0.701913\n",
      "Epoch: 11000 - Loss: 0.695695\n",
      "Epoch: 12000 - Loss: 0.689525\n",
      "Epoch: 13000 - Loss: 0.655164\n",
      "Epoch: 14000 - Loss: 0.570987\n",
      "Epoch: 15000 - Loss: 0.515306\n",
      "Epoch: 16000 - Loss: 0.474666\n",
      "Epoch: 17000 - Loss: 0.430224\n",
      "Epoch: 18000 - Loss: 0.403380\n",
      "Epoch: 19000 - Loss: 0.386584\n"
     ]
    }
   ],
   "source": [
    "loss_func = OHALoss()\n",
    "x_physics = torch.linspace(0, 9, 300, requires_grad=True).view(-1,1)\n",
    "x_zero = torch.tensor([0.0], dtype=torch.float32).view(-1,1)\n",
    "\n",
    "mi = 0.3\n",
    "k = 3.24\n",
    "y_zero = 1.0\n",
    "\n",
    "epochs = 20000\n",
    "for epoch in range(epochs):\n",
    "    optimiser.zero_grad()\n",
    "\n",
    "    physics_outputs = model(x_physics)\n",
    "    BC_output = model(x_zero)\n",
    "\n",
    "    loss = loss_func(x_physics, physics_outputs, BC_output, mi, k, y_zero)\n",
    "    \n",
    "    loss.backward()\n",
    "    optimiser.step()\n",
    "    \n",
    "    if epoch % 1000 == 0:\n",
    "         print(f\"Epoch: {epoch} - Loss: {float(loss.item()):>7f}\")\n"
   ]
  },
  {
   "cell_type": "code",
   "execution_count": 813,
   "metadata": {},
   "outputs": [
    {
     "name": "stdout",
     "output_type": "stream",
     "text": [
      "Saved PyTorch Model State to model.pth\n"
     ]
    }
   ],
   "source": [
    "torch.save(model.state_dict(), \"model.pth\")\n",
    "print(\"Saved PyTorch Model State to model.pth\")"
   ]
  },
  {
   "cell_type": "code",
   "execution_count": 814,
   "metadata": {},
   "outputs": [
    {
     "data": {
      "image/png": "[encoded data removed]",
      "text/plain": [
       "<Figure size 432x288 with 1 Axes>"
      ]
     },
     "metadata": {
      "needs_background": "light"
     },
     "output_type": "display_data"
    }
   ],
   "source": [
    "model = OHAModel()\n",
    "model.load_state_dict(torch.load(\"model.pth\"))\n",
    "\n",
    "predicted = model(vdata.x)\n",
    "vx = vdata.x.detach().numpy()\n",
    "vy = vdata.y.detach().numpy()\n",
    "\n",
    "x = data.x.detach().numpy()\n",
    "y = data.y.detach().numpy()\n",
    "\n",
    "plt.plot(vx, vy, color='tab:gray', linestyle=':', label='Expected')\n",
    "plt.plot(vx, predicted.detach().numpy(), color='tab:blue', linestyle='solid', label = 'Predicted')\n",
    "#plt.plot(x, y, color='xkcd:orange', marker='o', linestyle='none', label = 'Data Provided')\n",
    "plt.xlim([0, 14])\n",
    "plt.ylim([-6, 6])\n",
    "plt.title(f'Epochs: {epochs}')\n",
    "plt.legend(loc=1)\n",
    "plt.grid(True, alpha=0.3)\n",
    "plt.savefig('grafico-oha.jpg')\n",
    "plt.show()"
   ]
  }
 ],
 "metadata": {
  "kernelspec": {
   "display_name": "pytorch-cuda11.3",
   "language": "python",
   "name": "python3"
  },
  "language_info": {
   "codemirror_mode": {
    "name": "ipython",
    "version": 3
   },
   "file_extension": ".py",
   "mimetype": "text/x-python",
   "name": "python",
   "nbconvert_exporter": "python",
   "pygments_lexer": "ipython3",
   "version": "3.9.12"
  },
  "orig_nbformat": 4,
  "vscode": {
   "interpreter": {
    "hash": "1ecf4855ac3054153cb32a566375621934de42d4bb3f19a1ac18025b10a022b6"
   }
  }
 },
 "nbformat": 4,
 "nbformat_minor": 2
}
