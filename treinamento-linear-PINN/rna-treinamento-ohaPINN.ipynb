{
 "cells": [
  {
   "cell_type": "code",
   "execution_count": 267,
   "metadata": {},
   "outputs": [],
   "source": [
    "import torch \n",
    "import torch.nn as nn\n",
    "\n",
    "import numpy as np\n",
    "import matplotlib.pyplot as plt\n",
    "import pandas as pd"
   ]
  },
  {
   "cell_type": "code",
   "execution_count": 268,
   "metadata": {},
   "outputs": [],
   "source": [
    "class Data():\n",
    "    def __init__(self, filename):\n",
    "        data = pd.read_pickle(filename)\n",
    "        d_time = data.drop(columns=['X'])\n",
    "        d_pos  = data.drop(columns=['T'])\n",
    "        x = d_time.iloc[:, :].values\n",
    "        y =  d_pos.iloc[:, :].values\n",
    "\n",
    "        self.x = torch.tensor(x, requires_grad=True, dtype=torch.float)\n",
    "        self.y = torch.tensor(y, requires_grad=True, dtype=torch.float)\n",
    "\n",
    "    def __len__(self):\n",
    "        return len(self.x)\n",
    "    \n",
    "    def __getparams__(self):\n",
    "        return self.x, self.y\n",
    "\n",
    "    def __getitem__(self, idx):\n",
    "        return self.x[idx], self.y[idx]\n",
    "\n",
    "\n",
    "data  = Data('training-oha.pkl')  \n",
    "vdata = Data('validation-oha.pkl') \n",
    "#data.__getparams__()"
   ]
  },
  {
   "cell_type": "code",
   "execution_count": 269,
   "metadata": {},
   "outputs": [
    {
     "name": "stdout",
     "output_type": "stream",
     "text": [
      "OHAModel(\n",
      "  (linear): Sequential(\n",
      "    (0): Linear(in_features=1, out_features=32, bias=True)\n",
      "    (1): Tanh()\n",
      "    (2): Linear(in_features=32, out_features=1, bias=True)\n",
      "  )\n",
      ")\n"
     ]
    }
   ],
   "source": [
    "class OHAModel(nn.Module):\n",
    "    def __init__(self):\n",
    "        super(OHAModel, self).__init__()\n",
    "        self.linear = nn.Sequential(nn.Linear(1, 32), nn.Tanh(), nn.Linear(32, 1)) # 1 InputL, 32 HiddenL, 1 OutputL\n",
    "\n",
    "    def forward(self, x):\n",
    "        out = self.linear(x)\n",
    "        return out\n",
    "\n",
    "model = OHAModel()\n",
    "print(model)"
   ]
  },
  {
   "cell_type": "code",
   "execution_count": 270,
   "metadata": {},
   "outputs": [],
   "source": [
    "optimiser = torch.optim.Adam(model.parameters(), lr=1e-4)"
   ]
  },
  {
   "cell_type": "code",
   "execution_count": 271,
   "metadata": {},
   "outputs": [],
   "source": [
    "# Custom loss function:\n",
    "# Função base:\n",
    "\n",
    "class OHALoss(nn.Module):\n",
    "    def __init__(self):\n",
    "        super().__init__()\n",
    "\n",
    "    def df(self, output : torch.Tensor, x: torch.Tensor = None, order : int=1) -> torch.Tensor:\n",
    "\n",
    "        for _ in range(order):\n",
    "            output = torch.autograd.grad(output, x, grad_outputs=torch.ones_like(x), create_graph=True)[0]\n",
    "            \n",
    "        return output\n",
    "\n",
    "\n",
    "    def forward(self, x : torch.Tensor, x_physics : torch.Tensor, output : torch.Tensor, physics_output : torch.Tensor, target : torch.Tensor, mi, k, massa, epoch):\n",
    "        # DE contribution\n",
    "        LossDE = (massa)*self.df(physics_output, x_physics, order=2) + (mi)*self.df(physics_output, x_physics, order=1) + (k)*x_physics \n",
    "\n",
    "        #print(x_physics)\n",
    "\n",
    "        # target contribution\n",
    "        LossMSE = (output - target).pow(2).mean()\n",
    "        \n",
    "\n",
    "        Loss = LossMSE + (1e-4)*LossDE.pow(2).mean()\n",
    "        #Loss = LossMSE\n",
    "\n",
    "        return Loss\n",
    "\n",
    "\n",
    "\n"
   ]
  },
  {
   "cell_type": "code",
   "execution_count": 272,
   "metadata": {},
   "outputs": [
    {
     "name": "stdout",
     "output_type": "stream",
     "text": [
      "Epoch: 0 - Loss: 6.573460\n",
      "Epoch: 1000 - Loss: 5.659831\n",
      "Epoch: 2000 - Loss: 5.174029\n",
      "Epoch: 3000 - Loss: 4.630009\n",
      "Epoch: 4000 - Loss: 4.053492\n",
      "Epoch: 5000 - Loss: 3.498439\n",
      "Epoch: 6000 - Loss: 2.992305\n",
      "Epoch: 7000 - Loss: 2.539505\n",
      "Epoch: 8000 - Loss: 2.130534\n",
      "Epoch: 9000 - Loss: 1.756417\n",
      "Epoch: 10000 - Loss: 1.416861\n",
      "Epoch: 11000 - Loss: 1.115950\n",
      "Epoch: 12000 - Loss: 0.861078\n",
      "Epoch: 13000 - Loss: 0.661913\n",
      "Epoch: 14000 - Loss: 0.519570\n",
      "Epoch: 15000 - Loss: 0.418673\n",
      "Epoch: 16000 - Loss: 0.343228\n",
      "Epoch: 17000 - Loss: 0.285139\n",
      "Epoch: 18000 - Loss: 0.242497\n",
      "Epoch: 19000 - Loss: 0.209665\n",
      "Epoch: 20000 - Loss: 0.179399\n",
      "Epoch: 21000 - Loss: 0.153547\n",
      "Epoch: 22000 - Loss: 0.133236\n",
      "Epoch: 23000 - Loss: 0.113237\n",
      "Epoch: 24000 - Loss: 0.099051\n",
      "Epoch: 25000 - Loss: 0.087284\n",
      "Epoch: 26000 - Loss: 0.074047\n",
      "Epoch: 27000 - Loss: 0.066394\n",
      "Epoch: 28000 - Loss: 0.060177\n",
      "Epoch: 29000 - Loss: 0.054409\n",
      "Epoch: 30000 - Loss: 0.049361\n",
      "Epoch: 31000 - Loss: 0.046579\n",
      "Epoch: 32000 - Loss: 0.044783\n",
      "Epoch: 33000 - Loss: 0.043555\n",
      "Epoch: 34000 - Loss: 0.042696\n",
      "Epoch: 35000 - Loss: 0.042083\n",
      "Epoch: 36000 - Loss: 0.041659\n",
      "Epoch: 37000 - Loss: 0.041380\n",
      "Epoch: 38000 - Loss: 0.041195\n",
      "Epoch: 39000 - Loss: 0.041062\n",
      "Epoch: 40000 - Loss: 0.040960\n",
      "Epoch: 41000 - Loss: 0.040878\n",
      "Epoch: 42000 - Loss: 0.040807\n",
      "Epoch: 43000 - Loss: 0.040745\n",
      "Epoch: 44000 - Loss: 0.040690\n",
      "Epoch: 45000 - Loss: 0.040642\n",
      "Epoch: 46000 - Loss: 0.040597\n",
      "Epoch: 47000 - Loss: 0.040557\n",
      "Epoch: 48000 - Loss: 0.040517\n",
      "Epoch: 49000 - Loss: 0.040475\n"
     ]
    }
   ],
   "source": [
    "loss_func = OHALoss()\n",
    "x_physics = torch.linspace(0,10,30, requires_grad=True).view(-1,1)\n",
    "\n",
    "mi = 0.3\n",
    "k = 3.24\n",
    "massa = 1.0\n",
    "\n",
    "epochs = 50000\n",
    "\n",
    "for epoch in range(epochs):\n",
    "    optimiser.zero_grad()\n",
    "\n",
    "    outputs = model(data.x)\n",
    "    physics_outputs = model(x_physics)\n",
    "\n",
    "    loss = loss_func(data.x, x_physics, outputs, physics_outputs, data.y, mi, k, massa, epoch)\n",
    "    loss.backward()\n",
    "    \n",
    "    optimiser.step()\n",
    "    \n",
    "    if epoch % 1000 == 0:\n",
    "         print(f\"Epoch: {epoch} - Loss: {float(loss.item()):>7f}\")\n"
   ]
  },
  {
   "cell_type": "code",
   "execution_count": 273,
   "metadata": {},
   "outputs": [
    {
     "name": "stdout",
     "output_type": "stream",
     "text": [
      "Saved PyTorch Model State to model.pth\n"
     ]
    }
   ],
   "source": [
    "torch.save(model.state_dict(), \"model.pth\")\n",
    "print(\"Saved PyTorch Model State to model.pth\")"
   ]
  },
  {
   "cell_type": "code",
   "execution_count": 274,
   "metadata": {},
   "outputs": [
    {
     "data": {
      "image/png": "[encoded data removed]",
      "text/plain": [
       "<Figure size 640x480 with 1 Axes>"
      ]
     },
     "metadata": {},
     "output_type": "display_data"
    }
   ],
   "source": [
    "model = OHAModel()\n",
    "model.load_state_dict(torch.load(\"model.pth\"))\n",
    "\n",
    "predicted = model(vdata.x)\n",
    "vx = vdata.x.detach().numpy()\n",
    "vy = vdata.y.detach().numpy()\n",
    "\n",
    "x = data.x.detach().numpy()\n",
    "y = data.y.detach().numpy()\n",
    "\n",
    "plt.plot(vx, predicted.detach().numpy(), '-', label = 'Predicted')\n",
    "plt.plot(x, y, 'o', label = 'Data Provided')\n",
    "plt.plot(vx, vy, '--', label='Expected')\n",
    "plt.xlim([0, 14])\n",
    "plt.ylim([-6, 6])\n",
    "plt.title(f'Epochs: {epochs}')\n",
    "plt.legend(loc=1)\n",
    "plt.grid(True)\n",
    "plt.savefig('grafico-oha.jpg')\n",
    "plt.show()"
   ]
  }
 ],
 "metadata": {
  "kernelspec": {
   "display_name": "pytorch",
   "language": "python",
   "name": "python3"
  },
  "language_info": {
   "codemirror_mode": {
    "name": "ipython",
    "version": 3
   },
   "file_extension": ".py",
   "mimetype": "text/x-python",
   "name": "python",
   "nbconvert_exporter": "python",
   "pygments_lexer": "ipython3",
   "version": "3.9.15"
  },
  "orig_nbformat": 4,
  "vscode": {
   "interpreter": {
    "hash": "4f3fed415a08ecb63b3b229639659755340d1f7b6dbc9adde922438990970ced"
   }
  }
 },
 "nbformat": 4,
 "nbformat_minor": 2
}
