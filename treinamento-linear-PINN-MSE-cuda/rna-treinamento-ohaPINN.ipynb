{
 "cells": [
  {
   "cell_type": "code",
   "execution_count": 37,
   "metadata": {},
   "outputs": [],
   "source": [
    "import torch \n",
    "import torch.nn as nn\n",
    "\n",
    "import numpy as np\n",
    "import matplotlib.pyplot as plt\n",
    "import pandas as pd"
   ]
  },
  {
   "cell_type": "code",
   "execution_count": 38,
   "metadata": {},
   "outputs": [
    {
     "name": "stdout",
     "output_type": "stream",
     "text": [
      "cuda:0\n"
     ]
    }
   ],
   "source": [
    "use_cuda = True\n",
    "if use_cuda:\n",
    "    if torch.cuda.is_available(): \n",
    "        dev = \"cuda:0\" \n",
    "    else: \n",
    "        dev = \"cpu\"\n",
    "else:\n",
    "    dev = \"cpu\"\n",
    "\n",
    "device = torch.device(dev) \n",
    "print(device)"
   ]
  },
  {
   "cell_type": "code",
   "execution_count": 39,
   "metadata": {},
   "outputs": [],
   "source": [
    "class Data():\n",
    "    def __init__(self, filename):\n",
    "        data = pd.read_pickle(filename)\n",
    "        d_time = data.drop(columns=['X'])\n",
    "        d_pos  = data.drop(columns=['T'])\n",
    "        x = d_time.iloc[:, :].values\n",
    "        y =  d_pos.iloc[:, :].values\n",
    "\n",
    "        self.x = torch.tensor(x, requires_grad=True, dtype=torch.float).to(device)\n",
    "        self.y = torch.tensor(y, requires_grad=True, dtype=torch.float).to(device)\n",
    "\n",
    "\n",
    "    def __len__(self):\n",
    "        return len(self.x)\n",
    "    \n",
    "    def __getparams__(self):\n",
    "        return self.x, self.y\n",
    "\n",
    "    def __getitem__(self, idx):\n",
    "        return self.x[idx], self.y[idx]\n",
    "\n",
    "\n",
    "data  = Data('training-oha.pkl')\n",
    "vdata = Data('validation-oha.pkl') "
   ]
  },
  {
   "cell_type": "code",
   "execution_count": 40,
   "metadata": {},
   "outputs": [
    {
     "name": "stdout",
     "output_type": "stream",
     "text": [
      "OHAModel(\n",
      "  (linear): Sequential(\n",
      "    (0): Linear(in_features=1, out_features=32, bias=True)\n",
      "    (1): Sigmoid()\n",
      "    (2): Linear(in_features=32, out_features=1, bias=True)\n",
      "  )\n",
      ")\n"
     ]
    }
   ],
   "source": [
    "class OHAModel(nn.Module):\n",
    "    def __init__(self):\n",
    "        super(OHAModel, self).__init__()\n",
    "        self.linear = nn.Sequential(nn.Linear(1, 32), nn.Sigmoid(), nn.Linear(32, 1)) # 1 InputL, 32 HiddenL, 1 OutputL\n",
    "\n",
    "    def forward(self, x):\n",
    "        out = self.linear(x)\n",
    "        return out\n",
    "\n",
    "model = OHAModel()\n",
    "model = model.to(device)\n",
    "\n",
    "\n",
    "print(model)"
   ]
  },
  {
   "cell_type": "code",
   "execution_count": 41,
   "metadata": {},
   "outputs": [],
   "source": [
    "optimiser = torch.optim.Adam(model.parameters())"
   ]
  },
  {
   "cell_type": "code",
   "execution_count": 42,
   "metadata": {},
   "outputs": [],
   "source": [
    "# Custom loss function:\n",
    "# Função base:\n",
    "\n",
    "class OHALoss(nn.Module):\n",
    "    def __init__(self):\n",
    "        super(OHALoss, self).__init__()\n",
    "\n",
    "    def df(self, output : torch.Tensor, x: torch.Tensor = None, order : int=1) -> torch.Tensor:\n",
    "        for _ in range(order):\n",
    "            output = torch.autograd.grad(output, x, grad_outputs=torch.ones_like(x), create_graph=True, retain_graph=True)[0]\n",
    "            \n",
    "        return output\n",
    "\n",
    "\n",
    "    def forward(self, x_physics : torch.Tensor, physics_output : torch.Tensor, output : torch.Tensor, target : torch.Tensor, mi, k):\n",
    "        # DE contribution\n",
    "        LossDE = self.df(physics_output, x_physics, order=2) + (mi)*self.df(physics_output, x_physics, order=1) + (k)*physics_output \n",
    "\n",
    "        #MSE\n",
    "        LossMSE = (target - output)\n",
    "\n",
    "        Loss = LossDE.pow(2).mean() + LossMSE.pow(2).mean()\n",
    "\n",
    "        return Loss\n",
    "\n",
    "\n",
    "\n"
   ]
  },
  {
   "cell_type": "code",
   "execution_count": 43,
   "metadata": {},
   "outputs": [
    {
     "name": "stdout",
     "output_type": "stream",
     "text": [
      "Epoch: 0 - Loss: 4.655699\n",
      "Epoch: 1000 - Loss: 0.260220\n",
      "Epoch: 2000 - Loss: 0.252278\n",
      "Epoch: 3000 - Loss: 0.212180\n",
      "Epoch: 4000 - Loss: 0.189069\n",
      "Epoch: 5000 - Loss: 0.148201\n",
      "Epoch: 6000 - Loss: 0.115957\n",
      "Epoch: 7000 - Loss: 0.095414\n",
      "Epoch: 8000 - Loss: 0.078801\n",
      "Epoch: 9000 - Loss: 0.065440\n",
      "Epoch: 10000 - Loss: 0.057215\n",
      "Epoch: 11000 - Loss: 0.039413\n",
      "Epoch: 12000 - Loss: 0.035143\n",
      "Epoch: 13000 - Loss: 0.032528\n",
      "Epoch: 14000 - Loss: 0.030458\n",
      "Epoch: 15000 - Loss: 0.028786\n",
      "Epoch: 16000 - Loss: 0.027421\n",
      "Epoch: 17000 - Loss: 0.026196\n",
      "Epoch: 18000 - Loss: 0.025048\n",
      "Epoch: 19000 - Loss: 0.024118\n"
     ]
    }
   ],
   "source": [
    "loss_func = OHALoss()\n",
    "loss_func = loss_func.to(device)\n",
    "\n",
    "x_physics = torch.linspace(0, 10, 900, requires_grad=True).view(-1,1).to(device)\n",
    "\n",
    "\n",
    "# x_physics determina o domínio da função que a rede pode prever. Desse modo, caso haja necessidade de uma previsão com x > 10, a rede não será capaz de definir \\\n",
    "# e outro treinamento deverá ser realizado\n",
    "\n",
    "mi = 0.300\n",
    "k  = 3.240\n",
    "\n",
    "epochs = 20000 # 200000 é o valor recomendado. Coloquei 20000, pois estava demorando muito.\n",
    "for epoch in range(epochs):\n",
    "    optimiser.zero_grad()\n",
    "\n",
    "    physics_outputs = model(x_physics)\n",
    "    output = model(data.x)\n",
    "\n",
    "    loss = loss_func(x_physics, physics_outputs, output, data.y, mi, k)\n",
    "    \n",
    "    loss.backward()\n",
    "    optimiser.step()\n",
    "    \n",
    "    if epoch % 10000 == 0:\n",
    "         print(f\"Epoch: {epoch} - Loss: {float(loss.item()):>7f}\")\n"
   ]
  },
  {
   "cell_type": "code",
   "execution_count": 44,
   "metadata": {},
   "outputs": [
    {
     "name": "stdout",
     "output_type": "stream",
     "text": [
      "Saved PyTorch Model State to model.pth\n"
     ]
    }
   ],
   "source": [
    "torch.save(model.state_dict(), \"model.pth\")\n",
    "print(\"Saved PyTorch Model State to model.pth\")"
   ]
  },
  {
   "cell_type": "code",
   "execution_count": 48,
   "metadata": {},
   "outputs": [
    {
     "data": {
      "image/png": "[encoded data removed]",
      "text/plain": [
       "<Figure size 432x288 with 1 Axes>"
      ]
     },
     "metadata": {
      "needs_background": "light"
     },
     "output_type": "display_data"
    }
   ],
   "source": [
    "model = OHAModel()\n",
    "model = model.to(device)\n",
    "model.load_state_dict(torch.load(\"model.pth\"))\n",
    "\n",
    "predicted = model(vdata.x)\n",
    "vx = vdata.x.detach().cpu().numpy()\n",
    "vy = vdata.y.detach().cpu().numpy()\n",
    "\n",
    "x = data.x.detach().cpu().numpy()\n",
    "y = data.y.detach().cpu().numpy()\n",
    "\n",
    "plt.plot(vx, vy, color='tab:gray', linestyle=':', label='Valor esperado')\n",
    "plt.plot(vx, predicted.detach().cpu().numpy(), color='xkcd:blue', linestyle='solid', label = 'Valor previsto')\n",
    "plt.plot(x, y, color='xkcd:orange', marker='o', linestyle='none', label = 'Dados providos')\n",
    "plt.xlim([0, 10])\n",
    "plt.ylim([-1, 1])\n",
    "plt.title(f'Ciclos de treinamento: {epochs}')\n",
    "plt.legend(loc=1)\n",
    "plt.grid(True, alpha=0.3)\n",
    "plt.savefig('grafico-oha.jpg')\n",
    "plt.show()"
   ]
  },
  {
   "attachments": {},
   "cell_type": "markdown",
   "metadata": {},
   "source": [
    "# Cálculo do erro"
   ]
  },
  {
   "cell_type": "code",
   "execution_count": 50,
   "metadata": {},
   "outputs": [
    {
     "name": "stdout",
     "output_type": "stream",
     "text": [
      "Erro máximo encontrado na rede: 0.29\n",
      "Erro médio encontrado na rede: 0.01\n",
      "Erro quadrático médio encontrado na rede: 0.02\n"
     ]
    }
   ],
   "source": [
    "previsto = predicted.detach().cpu().numpy()[:101]\n",
    "esperado = vdata.y.detach().cpu().numpy()[:101]\n",
    "\n",
    "erro = previsto - esperado\n",
    "erro_maximo = erro[np.argmax(erro)][0]\n",
    "\n",
    "print(f'Erro máximo encontrado na rede: {erro_maximo :.2f}')\n",
    "\n",
    "erro_medio = np.mean(erro)\n",
    "\n",
    "print(f'Erro médio encontrado na rede: {erro_medio :.2f}')\n",
    "\n",
    "erro_quadratico_medio = np.power(erro, 2)\n",
    "erro_quadratico_medio = np.mean(erro_quadratico_medio)\n",
    "\n",
    "print(f'Erro quadrático médio encontrado na rede: {erro_quadratico_medio :.2f}')"
   ]
  }
 ],
 "metadata": {
  "kernelspec": {
   "display_name": "pytorch-cuda11.3",
   "language": "python",
   "name": "python3"
  },
  "language_info": {
   "codemirror_mode": {
    "name": "ipython",
    "version": 3
   },
   "file_extension": ".py",
   "mimetype": "text/x-python",
   "name": "python",
   "nbconvert_exporter": "python",
   "pygments_lexer": "ipython3",
   "version": "3.9.12"
  },
  "orig_nbformat": 4,
  "vscode": {
   "interpreter": {
    "hash": "1ecf4855ac3054153cb32a566375621934de42d4bb3f19a1ac18025b10a022b6"
   }
  }
 },
 "nbformat": 4,
 "nbformat_minor": 2
}
