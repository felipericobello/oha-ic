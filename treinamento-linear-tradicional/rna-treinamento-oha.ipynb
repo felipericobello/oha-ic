{
 "cells": [
  {
   "cell_type": "code",
   "execution_count": 312,
   "metadata": {},
   "outputs": [],
   "source": [
    "import torch \n",
    "import torch.nn as nn\n",
    "\n",
    "import numpy as np\n",
    "import matplotlib.pyplot as plt\n",
    "import pandas as pd"
   ]
  },
  {
   "cell_type": "code",
   "execution_count": 313,
   "metadata": {},
   "outputs": [],
   "source": [
    "class Data():\n",
    "    def __init__(self, filename):\n",
    "        data = pd.read_pickle(filename)\n",
    "        d_time = data.drop(columns=['X'])\n",
    "        d_pos  = data.drop(columns=['T'])\n",
    "        x = d_time.iloc[:, :].values\n",
    "        y =  d_pos.iloc[:, :].values\n",
    "\n",
    "        self.x = torch.tensor(x, dtype=torch.float)\n",
    "        self.y = torch.tensor(y, dtype=torch.float)\n",
    "\n",
    "    def __len__(self):\n",
    "        return len(self.x)\n",
    "    \n",
    "    def __getparams__(self):\n",
    "        return self.x, self.y\n",
    "\n",
    "    def __getitem__(self, idx):\n",
    "        return self.x[idx], self.y[idx]\n",
    "\n",
    "\n",
    "data = Data('training-oha.pkl')  \n",
    "vdata = Data('validation-oha.pkl') \n",
    "#data.__getparams__()"
   ]
  },
  {
   "cell_type": "code",
   "execution_count": 314,
   "metadata": {},
   "outputs": [
    {
     "name": "stdout",
     "output_type": "stream",
     "text": [
      "OHAModel(\n",
      "  (linear): Sequential(\n",
      "    (0): Linear(in_features=1, out_features=32, bias=True)\n",
      "    (1): Sigmoid()\n",
      "    (2): Linear(in_features=32, out_features=1, bias=True)\n",
      "  )\n",
      ")\n"
     ]
    }
   ],
   "source": [
    "class OHAModel(nn.Module):\n",
    "    def __init__(self):\n",
    "        super(OHAModel, self).__init__()\n",
    "        self.linear = nn.Sequential(nn.Linear(1, 32), nn.Sigmoid(), nn.Linear(32, 1)) # 1 InputL, 32 HiddenL, 1 OutputL\n",
    "\n",
    "    def forward(self, x):\n",
    "        out = self.linear(x)\n",
    "        return out\n",
    "\n",
    "model = OHAModel()\n",
    "print(model)"
   ]
  },
  {
   "cell_type": "code",
   "execution_count": 315,
   "metadata": {},
   "outputs": [],
   "source": [
    "optimiser = torch.optim.Adam(model.parameters())\n",
    "loss_func = nn.MSELoss()"
   ]
  },
  {
   "cell_type": "code",
   "execution_count": 316,
   "metadata": {},
   "outputs": [
    {
     "name": "stdout",
     "output_type": "stream",
     "text": [
      "9\n"
     ]
    }
   ],
   "source": [
    "for i in range(10):\n",
    "    clear_output(wait=True)\n",
    "    print(i, flush=True)\n",
    "\n",
    "epochs = 20000\n",
    "x_train = data.x\n",
    "y_train = data.y\n",
    "for epoch in range(epochs):\n",
    "    epoch+=1\n",
    "    inputs = x_train\n",
    "    desired_outputs = y_train\n",
    "\n",
    "    out = model(inputs)\n",
    "    optimiser.zero_grad()\n",
    "    \n",
    "    loss = loss_func(out, desired_outputs)\n",
    "    loss.backward()\n",
    "\n",
    "    optimiser.step()\n",
    "    #print(f'Epoch {epoch}, loss {loss.item()}', flush=True)\n"
   ]
  },
  {
   "cell_type": "code",
   "execution_count": 320,
   "metadata": {},
   "outputs": [
    {
     "data": {
      "image/png": "[encoded data removed]",
      "text/plain": [
       "<Figure size 432x288 with 1 Axes>"
      ]
     },
     "metadata": {
      "needs_background": "light"
     },
     "output_type": "display_data"
    }
   ],
   "source": [
    "predicted = model.forward(vdata.x)\n",
    "vx = vdata.x.detach().numpy()\n",
    "x = data.x.detach().numpy()\n",
    "\n",
    "plt.plot(vx, predicted.detach().numpy(), '-', label = 'Predicted')\n",
    "plt.plot(x, data.y.detach().numpy(), 'o', label = 'Data Provided')\n",
    "plt.xlim([0, 10])\n",
    "plt.ylim([-6, 6])\n",
    "plt.title(f'Epochs: {epochs}')\n",
    "plt.legend(loc=4) # 4 = 'lower-left'\n",
    "plt.show()"
   ]
  }
 ],
 "metadata": {
  "kernelspec": {
   "display_name": "pytorch-cuda11.3",
   "language": "python",
   "name": "python3"
  },
  "language_info": {
   "codemirror_mode": {
    "name": "ipython",
    "version": 3
   },
   "file_extension": ".py",
   "mimetype": "text/x-python",
   "name": "python",
   "nbconvert_exporter": "python",
   "pygments_lexer": "ipython3",
   "version": "3.9.12"
  },
  "orig_nbformat": 4,
  "vscode": {
   "interpreter": {
    "hash": "1ecf4855ac3054153cb32a566375621934de42d4bb3f19a1ac18025b10a022b6"
   }
  }
 },
 "nbformat": 4,
 "nbformat_minor": 2
}
