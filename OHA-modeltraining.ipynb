{
 "cells": [
  {
   "cell_type": "code",
   "execution_count": 9,
   "metadata": {},
   "outputs": [],
   "source": [
    "import pandas as pd\n",
    "import numpy as np\n",
    "import torch\n",
    "from torch import nn\n",
    "from torch.utils.data import DataLoader\n",
    "from torch.utils.data import Dataset\n",
    "from torchvision.transforms import ToTensor\n"
   ]
  },
  {
   "cell_type": "code",
   "execution_count": 10,
   "metadata": {},
   "outputs": [],
   "source": [
    "class Data(Dataset):\n",
    "    def __init__(self, filename):\n",
    "        df = pd.read_pickle(filename)\n",
    "        dfx = df.drop(columns=['X'])\n",
    "        dfy = df.drop(columns=['FAI', 'PA', 'A', 'Phase', 'DeltaTime'])\n",
    "        \n",
    "        x = dfx.iloc[:,:].values\n",
    "        y = dfy.iloc[:, :].values\n",
    "\n",
    "        x = np.array(x, dtype=np.float32)\n",
    "        self.X = torch.from_numpy(x)\n",
    "        self.X = torch.squeeze(self.X)\n",
    "\n",
    "        print(f'{filename} X size: {self.X.shape}')\n",
    "\n",
    "        outputs = []\n",
    "        for i in range(len(y)):\n",
    "            outputs.append(y[i, :])\n",
    "            \n",
    "        self.y = torch.tensor(outputs, dtype=torch.float32)\n",
    "        self.y = torch.squeeze(self.y)\n",
    "        self.y = torch.squeeze(self.y)\n",
    "        print(f'{filename} Y size: {self.y.shape}')\n",
    "        \n",
    "\n",
    "    \n",
    "    def __len__(self):\n",
    "        return len(self.y)\n",
    "\n",
    "    def __getparams__(self):\n",
    "        return self.X, self.y\n",
    "\n",
    "    def __getitem__(self, idx):\n",
    "        return self.X[idx], self.y[idx]\n",
    "\n"
   ]
  },
  {
   "cell_type": "code",
   "execution_count": 11,
   "metadata": {},
   "outputs": [
    {
     "name": "stdout",
     "output_type": "stream",
     "text": [
      "train-data-oha.pkl X size: torch.Size([5000, 5])\n",
      "train-data-oha.pkl Y size: torch.Size([5000, 300])\n",
      "test-data-oha.pkl X size: torch.Size([1000, 5])\n",
      "test-data-oha.pkl Y size: torch.Size([1000, 300])\n",
      "Shape of X [N, Params]: torch.Size([1, 5])\n",
      "Shape of y [N, Params]: torch.Size([1, 300]) torch.float32\n"
     ]
    }
   ],
   "source": [
    "\n",
    "\n",
    "batch_size = 1\n",
    "\n",
    "train_data = Data(filename='train-data-oha.pkl')\n",
    "test_data = Data(filename='test-data-oha.pkl')\n",
    "\n",
    "train_dataloader = DataLoader(train_data, shuffle=True)\n",
    "test_dataloader = DataLoader(test_data, shuffle=True)\n",
    "\n",
    "\n",
    "for X, y in train_dataloader:\n",
    "    print(f\"Shape of X [N, Params]: {X.shape}\")\n",
    "    test_x = X\n",
    "    print(f\"Shape of y [N, Params]: {y.shape} {y.dtype}\")\n",
    "    test_y = y\n",
    "    break"
   ]
  },
  {
   "cell_type": "code",
   "execution_count": 12,
   "metadata": {},
   "outputs": [
    {
     "name": "stdout",
     "output_type": "stream",
     "text": [
      "Using cuda device\n",
      "NeuralNetwork(\n",
      "  (flatten): Flatten(start_dim=1, end_dim=-1)\n",
      "  (linear_relu_stack): Sequential(\n",
      "    (0): Linear(in_features=5, out_features=128, bias=True)\n",
      "    (1): ReLU()\n",
      "    (2): Linear(in_features=128, out_features=256, bias=True)\n",
      "    (3): ReLU()\n",
      "    (4): Linear(in_features=256, out_features=256, bias=True)\n",
      "    (5): ReLU()\n",
      "    (6): Linear(in_features=256, out_features=300, bias=True)\n",
      "  )\n",
      ")\n"
     ]
    }
   ],
   "source": [
    "# Get cpu or gpu device for training.\n",
    "device = \"cuda\" if torch.cuda.is_available() else \"cpu\"\n",
    "print(f\"Using {device} device\")\n",
    "\n",
    "\n",
    "# Define model\n",
    "class NeuralNetwork(nn.Module):\n",
    "    def __init__(self):\n",
    "        super().__init__()\n",
    "        self.flatten = nn.Flatten()\n",
    "        self.linear_relu_stack = nn.Sequential(\n",
    "            nn.Linear(5, 128),\n",
    "            nn.ReLU(),\n",
    "            nn.Linear(128, 256),\n",
    "            nn.ReLU(),\n",
    "            nn.Linear(256, 256),\n",
    "            nn.ReLU(),\n",
    "            nn.Linear(256, 300)\n",
    "        )\n",
    "\n",
    "    def forward(self, x):\n",
    "        x = self.flatten(x)\n",
    "        logits = self.linear_relu_stack(x)\n",
    "        return logits\n",
    "\n",
    "\n",
    "model = NeuralNetwork().to(device)\n",
    "print(model)\n",
    "\n",
    "loss_fn = nn.MSELoss()\n",
    "optimizer = torch.optim.SGD(model.parameters(), lr=0.001)\n"
   ]
  },
  {
   "cell_type": "code",
   "execution_count": 13,
   "metadata": {},
   "outputs": [],
   "source": [
    "def train(dataloader, model, loss_fn, optimizer):\n",
    "    size = len(dataloader.dataset)\n",
    "    model.train()\n",
    "    for batch, (X, y) in enumerate(dataloader):\n",
    "        X, y = X.to(device), y.to(device)\n",
    "\n",
    "        # Compute prediction error\n",
    "        pred = model(X)\n",
    "        loss = loss_fn(pred, y)\n",
    "\n",
    "        # Backpropagation\n",
    "        optimizer.zero_grad()\n",
    "        loss.backward()\n",
    "        optimizer.step()\n",
    "\n",
    "        if batch % 100 == 0:\n",
    "            loss, current = loss.item(), batch * len(X)\n",
    "            print(f\"loss: {loss:>7f}  [{current:>5d}/{size:>5d}]\")\n",
    "\n",
    "\n",
    "def test(dataloader, model, loss_fn):\n",
    "    size = len(dataloader.dataset)\n",
    "    num_batches = len(dataloader)\n",
    "    model.eval()\n",
    "    test_loss, correct = 0, 0\n",
    "    with torch.no_grad():\n",
    "        for X, y in dataloader:\n",
    "            X, y = X.to(device), y.to(device)\n",
    "            pred = model(X)\n",
    "            test_loss += loss_fn(pred, y).item()\n",
    "            correct += (pred.argmax(1) == y).type(torch.float).sum().item()\n",
    "    test_loss /= num_batches\n",
    "    correct /= size\n",
    "    print(f\"Test Error: \\n Accuracy: {(100*correct):>0.1f}%, Avg loss: {test_loss:>8f} \\n\")"
   ]
  },
  {
   "cell_type": "code",
   "execution_count": 14,
   "metadata": {},
   "outputs": [
    {
     "name": "stdout",
     "output_type": "stream",
     "text": [
      "Epoch 1\n",
      "-------------------------------\n",
      "loss: 1.022071  [    0/ 5000]\n",
      "loss: 0.240196  [  100/ 5000]\n",
      "loss: 1.214259  [  200/ 5000]\n",
      "loss: 3.167492  [  300/ 5000]\n",
      "loss: 42.506676  [  400/ 5000]\n",
      "loss: 0.462226  [  500/ 5000]\n",
      "loss: 0.927671  [  600/ 5000]\n",
      "loss: 3.622344  [  700/ 5000]\n",
      "loss: 0.485958  [  800/ 5000]\n",
      "loss: 0.815449  [  900/ 5000]\n",
      "loss: 15.302033  [ 1000/ 5000]\n",
      "loss: 13.162432  [ 1100/ 5000]\n",
      "loss: 2.163954  [ 1200/ 5000]\n",
      "loss: 0.658925  [ 1300/ 5000]\n",
      "loss: 14.150146  [ 1400/ 5000]\n",
      "loss: 2.448687  [ 1500/ 5000]\n",
      "loss: 0.677964  [ 1600/ 5000]\n",
      "loss: 0.519221  [ 1700/ 5000]\n",
      "loss: 0.831217  [ 1800/ 5000]\n",
      "loss: 10.016378  [ 1900/ 5000]\n",
      "loss: 0.045491  [ 2000/ 5000]\n",
      "loss: 0.187814  [ 2100/ 5000]\n",
      "loss: 0.837315  [ 2200/ 5000]\n",
      "loss: 1.421447  [ 2300/ 5000]\n",
      "loss: 0.354764  [ 2400/ 5000]\n",
      "loss: 0.049344  [ 2500/ 5000]\n",
      "loss: 117.763466  [ 2600/ 5000]\n",
      "loss: 0.720647  [ 2700/ 5000]\n",
      "loss: 4.923733  [ 2800/ 5000]\n",
      "loss: 0.031398  [ 2900/ 5000]\n",
      "loss: 0.313018  [ 3000/ 5000]\n",
      "loss: 0.690211  [ 3100/ 5000]\n",
      "loss: 0.041742  [ 3200/ 5000]\n",
      "loss: 37.588535  [ 3300/ 5000]\n",
      "loss: 4.161288  [ 3400/ 5000]\n",
      "loss: 0.021638  [ 3500/ 5000]\n",
      "loss: 0.164633  [ 3600/ 5000]\n",
      "loss: 3.815597  [ 3700/ 5000]\n",
      "loss: 3.768953  [ 3800/ 5000]\n",
      "loss: 0.446118  [ 3900/ 5000]\n",
      "loss: 0.108197  [ 4000/ 5000]\n",
      "loss: 1.205946  [ 4100/ 5000]\n",
      "loss: 0.006311  [ 4200/ 5000]\n",
      "loss: 5.295303  [ 4300/ 5000]\n",
      "loss: 0.007116  [ 4400/ 5000]\n",
      "loss: 0.542565  [ 4500/ 5000]\n",
      "loss: 0.029882  [ 4600/ 5000]\n",
      "loss: 3.440650  [ 4700/ 5000]\n",
      "loss: 0.438197  [ 4800/ 5000]\n",
      "loss: 0.037232  [ 4900/ 5000]\n",
      "Test Error: \n",
      " Accuracy: 2364.8%, Avg loss: 5.058671 \n",
      "\n",
      "Done!\n"
     ]
    }
   ],
   "source": [
    "epochs = 1\n",
    "for t in range(epochs):\n",
    "    print(f\"Epoch {t+1}\\n-------------------------------\")\n",
    "    train(train_dataloader, model, loss_fn, optimizer)\n",
    "    test(test_dataloader, model, loss_fn)\n",
    "print(\"Done!\")"
   ]
  },
  {
   "cell_type": "code",
   "execution_count": 15,
   "metadata": {},
   "outputs": [
    {
     "name": "stdout",
     "output_type": "stream",
     "text": [
      "Saved PyTorch Model State to model.pth\n"
     ]
    },
    {
     "data": {
      "text/plain": [
       "<All keys matched successfully>"
      ]
     },
     "execution_count": 15,
     "metadata": {},
     "output_type": "execute_result"
    }
   ],
   "source": [
    "torch.save(model.state_dict(), \"model.pth\")\n",
    "print(\"Saved PyTorch Model State to model.pth\")\n",
    "\n",
    "model = NeuralNetwork().to(device)\n",
    "model.load_state_dict(torch.load(\"model.pth\"))"
   ]
  },
  {
   "cell_type": "code",
   "execution_count": 16,
   "metadata": {},
   "outputs": [
    {
     "name": "stdout",
     "output_type": "stream",
     "text": [
      "300\n"
     ]
    },
    {
     "ename": "",
     "evalue": "",
     "output_type": "error",
     "traceback": [
      "\u001b[1;31mCanceled future for execute_request message before replies were done"
     ]
    },
    {
     "ename": "",
     "evalue": "",
     "output_type": "error",
     "traceback": [
      "\u001b[1;31mO Kernel falhou ao executar o código na célula atual ou em uma célula anterior. Examine o código nas células para identificar uma possível causa da falha. Clique <a href=\"https://aka.ms/vscodeJupyterKernelCrash\">aqui</a> para obter mais informações. Consulte o <a href='command:jupyter.viewOutput'>log</a> do Jupyter para obter mais detalhes."
     ]
    }
   ],
   "source": [
    "test_x = test_x.to(device)\n",
    "test_y = test_y.to(device)\n",
    "\n",
    "model.eval()\n",
    "with torch.no_grad():\n",
    "    pred = model(test_x)\n",
    "\n",
    "pred = torch.squeeze(pred)\n",
    "pred = torch.squeeze(pred)\n",
    "\n",
    "pred = pred.cpu()\n",
    "\n",
    "y = pred.numpy()\n",
    "\n",
    "print(y.size)\n",
    "\n",
    "dt = 0.1\n",
    "max_time = 30\n",
    "tempo = np.arange(0, max_time, dt)\n",
    "\n"
   ]
  }
 ],
 "metadata": {
  "kernelspec": {
   "display_name": "Python 3.9.12 ('pytorch')",
   "language": "python",
   "name": "python3"
  },
  "language_info": {
   "codemirror_mode": {
    "name": "ipython",
    "version": 3
   },
   "file_extension": ".py",
   "mimetype": "text/x-python",
   "name": "python",
   "nbconvert_exporter": "python",
   "pygments_lexer": "ipython3",
   "version": "3.9.12"
  },
  "orig_nbformat": 4,
  "vscode": {
   "interpreter": {
    "hash": "4f3fed415a08ecb63b3b229639659755340d1f7b6dbc9adde922438990970ced"
   }
  }
 },
 "nbformat": 4,
 "nbformat_minor": 2
}
