{
 "cells": [
  {
   "cell_type": "code",
   "execution_count": 1,
   "metadata": {},
   "outputs": [],
   "source": [
    "import pandas as pd\n",
    "import numpy as np\n",
    "import matplotlib.pyplot as plt\n",
    "import torch\n",
    "from torch import nn\n",
    "from torch.utils.data import DataLoader\n",
    "from torch.utils.data import Dataset\n",
    "from torchvision.transforms import ToTensor\n"
   ]
  },
  {
   "cell_type": "code",
   "execution_count": 2,
   "metadata": {},
   "outputs": [],
   "source": [
    "class Data(Dataset):\n",
    "    def __init__(self, filename):\n",
    "        df = pd.read_pickle(filename)\n",
    "        dfx = df.drop(columns=['X'])\n",
    "        dfy = df.drop(columns=['FAI', 'PA', 'A', 'Phase', 'DeltaTime'])\n",
    "        \n",
    "        x = dfx.iloc[:,:].values\n",
    "        y = dfy.iloc[:, :].values\n",
    "\n",
    "        x = np.array(x, dtype=np.float32)\n",
    "        self.X = torch.from_numpy(x)\n",
    "        self.X = torch.squeeze(self.X)\n",
    "\n",
    "        print(f'{filename} X size: {self.X.shape}')\n",
    "\n",
    "        outputs = []\n",
    "        for i in range(len(y)):\n",
    "            outputs.append(y[i, :])\n",
    "            \n",
    "        self.y = torch.tensor(outputs, dtype=torch.float32)\n",
    "        self.y = torch.squeeze(self.y)\n",
    "        self.y = torch.squeeze(self.y)\n",
    "        print(f'{filename} Y size: {self.y.shape}')\n",
    "        \n",
    "\n",
    "    \n",
    "    def __len__(self):\n",
    "        return len(self.y)\n",
    "\n",
    "    def __getparams__(self):\n",
    "        return self.X, self.y\n",
    "\n",
    "    def __getitem__(self, idx):\n",
    "        return self.X[idx], self.y[idx]\n",
    "\n"
   ]
  },
  {
   "cell_type": "code",
   "execution_count": 3,
   "metadata": {},
   "outputs": [
    {
     "name": "stdout",
     "output_type": "stream",
     "text": [
      "train-data-oha.pkl X size: torch.Size([5000, 5])\n",
      "train-data-oha.pkl Y size: torch.Size([5000, 300])\n",
      "test-data-oha.pkl X size: torch.Size([5000, 5])\n",
      "test-data-oha.pkl Y size: torch.Size([5000, 300])\n",
      "eval-data-oha.pkl X size: torch.Size([5000, 5])\n"
     ]
    },
    {
     "name": "stderr",
     "output_type": "stream",
     "text": [
      "C:\\Users\\felip\\AppData\\Local\\Temp\\ipykernel_19184\\4075501291.py:20: UserWarning: Creating a tensor from a list of numpy.ndarrays is extremely slow. Please consider converting the list to a single numpy.ndarray with numpy.array() before converting to a tensor. (Triggered internally at  C:\\actions-runner\\_work\\pytorch\\pytorch\\builder\\windows\\pytorch\\torch\\csrc\\utils\\tensor_new.cpp:204.)\n",
      "  self.y = torch.tensor(outputs, dtype=torch.float32)\n"
     ]
    },
    {
     "name": "stdout",
     "output_type": "stream",
     "text": [
      "eval-data-oha.pkl Y size: torch.Size([5000, 300])\n",
      "Shape of X [N, Params]: torch.Size([1, 5])\n",
      "Shape of y [N, Params]: torch.Size([1, 300]) torch.float32\n"
     ]
    }
   ],
   "source": [
    "train_data = Data(filename='train-data-oha.pkl')\n",
    "test_data = Data(filename='test-data-oha.pkl')\n",
    "evaluation_data = Data(filename='eval-data-oha.pkl')\n",
    "\n",
    "train_dataloader = DataLoader(train_data, shuffle=True)\n",
    "test_dataloader = DataLoader(test_data, shuffle=True)\n",
    "evaluation_dataloader = DataLoader(evaluation_data, shuffle=True)\n",
    "\n",
    "\n",
    "for X, y in train_dataloader:\n",
    "    print(f\"Shape of X [N, Params]: {X.shape}\")\n",
    "    print(f\"Shape of y [N, Params]: {y.shape} {y.dtype}\")\n",
    "    break"
   ]
  },
  {
   "cell_type": "code",
   "execution_count": 4,
   "metadata": {},
   "outputs": [
    {
     "name": "stdout",
     "output_type": "stream",
     "text": [
      "Using cuda device\n",
      "NeuralNetwork(\n",
      "  (flatten): Flatten(start_dim=1, end_dim=-1)\n",
      "  (linear_relu_stack): Sequential(\n",
      "    (0): Linear(in_features=5, out_features=512, bias=True)\n",
      "    (1): Sigmoid()\n",
      "    (2): Linear(in_features=512, out_features=300, bias=True)\n",
      "  )\n",
      ")\n"
     ]
    }
   ],
   "source": [
    "# Get cpu or gpu device for training.\n",
    "device = \"cuda\" if torch.cuda.is_available() else \"cpu\"\n",
    "print(f\"Using {device} device\")\n",
    "\n",
    "\n",
    "# Define model\n",
    "class NeuralNetwork(nn.Module):\n",
    "    def __init__(self):\n",
    "        super().__init__()\n",
    "        self.flatten = nn.Flatten()\n",
    "        self.linear_relu_stack = nn.Sequential(\n",
    "            nn.Linear(5, 512),\n",
    "            nn.Sigmoid(),\n",
    "            nn.Linear(512, 300)\n",
    "        )\n",
    "\n",
    "    def forward(self, x):\n",
    "        x = self.flatten(x)\n",
    "        logits = self.linear_relu_stack(x)\n",
    "        return logits\n",
    "\n",
    "\n",
    "model = NeuralNetwork().to(device)\n",
    "print(model)\n",
    "\n",
    "loss_fn = nn.MSELoss()\n",
    "optimizer = torch.optim.Adam(model.parameters())\n"
   ]
  },
  {
   "cell_type": "code",
   "execution_count": 5,
   "metadata": {},
   "outputs": [],
   "source": [
    "def train(dataloader, model, loss_fn, optimizer):\n",
    "    size = len(dataloader.dataset)\n",
    "    model.train()\n",
    "    for batch, (X, y) in enumerate(dataloader):\n",
    "        X, y = X.to(device), y.to(device)\n",
    "\n",
    "        # Compute prediction error\n",
    "        pred = model(X)\n",
    "        loss = loss_fn(pred, y)\n",
    "\n",
    "        # Backpropagation\n",
    "        optimizer.zero_grad()\n",
    "        loss.backward()\n",
    "        optimizer.step()\n",
    "\n",
    "        if batch % 100 == 0:\n",
    "            loss = loss.item()\n",
    "            #print(f\"loss: {loss:>7f}  [{current:>5d}/{size:>5d}]\")\n",
    "\n",
    "\n",
    "def test(dataloader, model, loss_fn):\n",
    "    size = len(dataloader.dataset)\n",
    "    num_batches = len(dataloader)\n",
    "    model.eval()\n",
    "    test_loss, correct = 0, 0\n",
    "    with torch.no_grad():\n",
    "        for X, y in dataloader:\n",
    "            X, y = X.to(device), y.to(device)\n",
    "            pred = model(X)\n",
    "            test_loss += loss_fn(pred, y).item()\n",
    "            correct += (pred.argmax(1) == y).type(torch.float).sum().item()\n",
    "    test_loss /= num_batches\n",
    "    correct /= size\n",
    "    print(f\"Test Error: Avg loss: {test_loss:>8f} \\n\")"
   ]
  },
  {
   "cell_type": "code",
   "execution_count": null,
   "metadata": {},
   "outputs": [],
   "source": [
    "epochs = 1500\n",
    "for t in range(epochs):\n",
    "    print(f\"Epoch {t+1}\\n-------------------------------\")\n",
    "    train(train_dataloader, model, loss_fn, optimizer)\n",
    "    test(test_dataloader, model, loss_fn)\n",
    "print(\"Done!\")"
   ]
  },
  {
   "cell_type": "code",
   "execution_count": 7,
   "metadata": {},
   "outputs": [
    {
     "name": "stdout",
     "output_type": "stream",
     "text": [
      "Saved PyTorch Model State to model.pth\n"
     ]
    }
   ],
   "source": [
    "torch.save(model.state_dict(), \"model.pth\")\n",
    "print(\"Saved PyTorch Model State to model.pth\")"
   ]
  },
  {
   "cell_type": "code",
   "execution_count": 58,
   "metadata": {},
   "outputs": [
    {
     "name": "stdout",
     "output_type": "stream",
     "text": [
      "Shape of X [N, Params]: torch.Size([1, 5])\n",
      "Shape of y [N, Params]: torch.Size([1, 300]) torch.float32\n",
      "300\n"
     ]
    },
    {
     "data": {
      "image/png": "[encoded data removed]",
      "text/plain": [
       "<Figure size 432x288 with 1 Axes>"
      ]
     },
     "metadata": {
      "needs_background": "light"
     },
     "output_type": "display_data"
    }
   ],
   "source": [
    "model = NeuralNetwork().to(device)\n",
    "model.load_state_dict(torch.load(\"model.pth\"))\n",
    "\n",
    "for X, y in evaluation_dataloader:\n",
    "    print(f\"Shape of X [N, Params]: {X.shape}\")\n",
    "    eval_x = X\n",
    "    print(f\"Shape of y [N, Params]: {y.shape} {y.dtype}\")\n",
    "    eval_y = y\n",
    "    break\n",
    "\n",
    "eval_x = eval_x.to(device)\n",
    "\n",
    "model.eval()\n",
    "with torch.no_grad():\n",
    "    pred = model(eval_x)\n",
    "\n",
    "pred = torch.squeeze(pred)\n",
    "pred = torch.squeeze(pred)\n",
    "\n",
    "pred = pred.cpu() # Para transformar em numpy, vê-se necessário passar a variável para o cpu\n",
    "eval_y = eval_y.cpu()\n",
    "\n",
    "y = pred.numpy()\n",
    "eval_y = eval_y.numpy()\n",
    "\n",
    "print(y.size)\n",
    "\n",
    "dt = 0.1\n",
    "max_time = 30\n",
    "tempo = np.arange(0, max_time, dt)\n",
    "\n",
    "\n",
    "plt.plot(tempo, eval_y.T, 'b--', label='Modelo teórico')\n",
    "plt.plot(tempo, y, 'k-', label='Modelo previsto pela RNA')\n",
    "plt.legend()\n",
    "plt.xlabel(\"Tempo [time unit]\")\n",
    "plt.ylabel(\"Posição [position unit]\")\n",
    "plt.show()"
   ]
  }
 ],
 "metadata": {
  "kernelspec": {
   "display_name": "Python 3.9.12 ('pytorch-cuda11.3')",
   "language": "python",
   "name": "python3"
  },
  "language_info": {
   "codemirror_mode": {
    "name": "ipython",
    "version": 3
   },
   "file_extension": ".py",
   "mimetype": "text/x-python",
   "name": "python",
   "nbconvert_exporter": "python",
   "pygments_lexer": "ipython3",
   "version": "3.9.12"
  },
  "orig_nbformat": 4,
  "vscode": {
   "interpreter": {
    "hash": "1ecf4855ac3054153cb32a566375621934de42d4bb3f19a1ac18025b10a022b6"
   }
  }
 },
 "nbformat": 4,
 "nbformat_minor": 2
}
