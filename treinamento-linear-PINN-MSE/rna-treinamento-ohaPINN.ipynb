{
 "cells": [
  {
   "cell_type": "code",
   "execution_count": 151,
   "metadata": {},
   "outputs": [],
   "source": [
    "import torch \n",
    "import torch.nn as nn\n",
    "\n",
    "import numpy as np\n",
    "import matplotlib.pyplot as plt\n",
    "import pandas as pd"
   ]
  },
  {
   "cell_type": "code",
   "execution_count": 152,
   "metadata": {},
   "outputs": [
    {
     "data": {
      "text/plain": [
       "12"
      ]
     },
     "execution_count": 152,
     "metadata": {},
     "output_type": "execute_result"
    }
   ],
   "source": [
    "class Data():\n",
    "    def __init__(self, filename):\n",
    "        data = pd.read_pickle(filename)\n",
    "        d_time = data.drop(columns=['X'])\n",
    "        d_pos  = data.drop(columns=['T'])\n",
    "        x = d_time.iloc[:, :].values\n",
    "        y =  d_pos.iloc[:, :].values\n",
    "\n",
    "        self.x = torch.tensor(x, requires_grad=True, dtype=torch.float)\n",
    "        self.y = torch.tensor(y, requires_grad=True, dtype=torch.float)\n",
    "\n",
    "    def __len__(self):\n",
    "        return len(self.x)\n",
    "    \n",
    "    def __getparams__(self):\n",
    "        return self.x, self.y\n",
    "\n",
    "    def __getitem__(self, idx):\n",
    "        return self.x[idx], self.y[idx]\n",
    "\n",
    "\n",
    "data  = Data('training-oha.pkl')  \n",
    "vdata = Data('validation-oha.pkl') \n",
    "data.__len__()"
   ]
  },
  {
   "cell_type": "code",
   "execution_count": 153,
   "metadata": {},
   "outputs": [
    {
     "name": "stdout",
     "output_type": "stream",
     "text": [
      "OHAModel(\n",
      "  (linear): Sequential(\n",
      "    (0): Linear(in_features=1, out_features=32, bias=True)\n",
      "    (1): Sigmoid()\n",
      "    (2): Linear(in_features=32, out_features=1, bias=True)\n",
      "  )\n",
      ")\n"
     ]
    }
   ],
   "source": [
    "class OHAModel(nn.Module):\n",
    "    def __init__(self):\n",
    "        super(OHAModel, self).__init__()\n",
    "        self.linear = nn.Sequential(nn.Linear(1, 32), nn.Sigmoid(), nn.Linear(32, 1)) # 1 InputL, 32 HiddenL, 1 OutputL\n",
    "\n",
    "    def forward(self, x):\n",
    "        out = self.linear(x)\n",
    "        return out\n",
    "\n",
    "model = OHAModel()\n",
    "print(model)"
   ]
  },
  {
   "cell_type": "code",
   "execution_count": 154,
   "metadata": {},
   "outputs": [],
   "source": [
    "optimiser = torch.optim.Adam(model.parameters())"
   ]
  },
  {
   "cell_type": "code",
   "execution_count": 155,
   "metadata": {},
   "outputs": [],
   "source": [
    "# Custom loss function:\n",
    "# Função base:\n",
    "\n",
    "class OHALoss(nn.Module):\n",
    "    def __init__(self):\n",
    "        super(OHALoss, self).__init__()\n",
    "\n",
    "    def df(self, output : torch.Tensor, x: torch.Tensor = None, order : int=1) -> torch.Tensor:\n",
    "        for _ in range(order):\n",
    "            output = torch.autograd.grad(output, x, grad_outputs=torch.ones_like(x), create_graph=True, retain_graph=True)[0]\n",
    "            \n",
    "        return output\n",
    "\n",
    "\n",
    "    def forward(self, x_physics : torch.Tensor, physics_output : torch.Tensor, output : torch.Tensor, target : torch.Tensor, mi, k):\n",
    "        # DE contribution\n",
    "        LossDE = self.df(physics_output, x_physics, order=2) + (mi)*self.df(physics_output, x_physics, order=1) + (k)*physics_output \n",
    "\n",
    "        #MSE\n",
    "        LossMSE = (target - output)\n",
    "\n",
    "        Loss = LossDE.pow(2).mean() + LossMSE.pow(2).mean()\n",
    "\n",
    "        return Loss\n",
    "\n",
    "\n",
    "\n"
   ]
  },
  {
   "cell_type": "code",
   "execution_count": 156,
   "metadata": {},
   "outputs": [
    {
     "name": "stdout",
     "output_type": "stream",
     "text": [
      "Epoch: 0 - Loss: 1.105091\n",
      "Epoch: 10000 - Loss: 0.026095\n",
      "Epoch: 20000 - Loss: 0.020305\n",
      "Epoch: 30000 - Loss: 0.011023\n",
      "Epoch: 40000 - Loss: 0.004720\n",
      "Epoch: 50000 - Loss: 0.003675\n",
      "Epoch: 60000 - Loss: 0.003355\n",
      "Epoch: 70000 - Loss: 0.003162\n",
      "Epoch: 80000 - Loss: 0.002996\n",
      "Epoch: 90000 - Loss: 0.002896\n",
      "Epoch: 100000 - Loss: 0.002721\n",
      "Epoch: 110000 - Loss: 0.002586\n",
      "Epoch: 120000 - Loss: 0.002398\n",
      "Epoch: 130000 - Loss: 0.001782\n",
      "Epoch: 140000 - Loss: 0.001497\n",
      "Epoch: 150000 - Loss: 0.001216\n",
      "Epoch: 160000 - Loss: 0.000958\n",
      "Epoch: 170000 - Loss: 0.000737\n",
      "Epoch: 180000 - Loss: 0.000560\n",
      "Epoch: 190000 - Loss: 0.000422\n"
     ]
    }
   ],
   "source": [
    "loss_func = OHALoss()\n",
    "x_physics = torch.linspace(0, 10, 900, requires_grad=True).view(-1,1)\n",
    "\n",
    "# x_physics determina o domínio da função que a rede pode prever. Desse modo, caso haja necessidade de uma previsão com x > 10, a rede não será capaz de definir \\\n",
    "# e outro treinamento deverá ser realizado\n",
    "\n",
    "mi = 0.300\n",
    "k  = 3.240\n",
    "\n",
    "epochs = 200000\n",
    "for epoch in range(epochs):\n",
    "    optimiser.zero_grad()\n",
    "\n",
    "    physics_outputs = model(x_physics)\n",
    "    output = model(data.x)\n",
    "\n",
    "    loss = loss_func(x_physics, physics_outputs, output, data.y, mi, k)\n",
    "    \n",
    "    loss.backward()\n",
    "    optimiser.step()\n",
    "    \n",
    "    if epoch % 10000 == 0:\n",
    "         print(f\"Epoch: {epoch} - Loss: {float(loss.item()):>7f}\")\n"
   ]
  },
  {
   "cell_type": "code",
   "execution_count": 157,
   "metadata": {},
   "outputs": [
    {
     "name": "stdout",
     "output_type": "stream",
     "text": [
      "Saved PyTorch Model State to model.pth\n"
     ]
    }
   ],
   "source": [
    "torch.save(model.state_dict(), \"model.pth\")\n",
    "print(\"Saved PyTorch Model State to model.pth\")"
   ]
  },
  {
   "cell_type": "code",
   "execution_count": 161,
   "metadata": {},
   "outputs": [
    {
     "data": {
      "image/png": "[encoded data removed]",
      "text/plain": [
       "<Figure size 432x288 with 1 Axes>"
      ]
     },
     "metadata": {
      "needs_background": "light"
     },
     "output_type": "display_data"
    }
   ],
   "source": [
    "model = OHAModel()\n",
    "model.load_state_dict(torch.load(\"model.pth\"))\n",
    "\n",
    "predicted = model(vdata.x)\n",
    "vx = vdata.x.detach().numpy()\n",
    "vy = vdata.y.detach().numpy()\n",
    "\n",
    "x = data.x.detach().numpy()\n",
    "y = data.y.detach().numpy()\n",
    "\n",
    "plt.plot(vx, vy, color='tab:gray', linestyle=':', label='Expected')\n",
    "plt.plot(vx, predicted.detach().numpy(), color='xkcd:blue', linestyle='solid', label = 'Predicted')\n",
    "plt.plot(x, y, color='xkcd:orange', marker='o', linestyle='none', label = 'Data Provided')\n",
    "plt.xlim([0, 10])\n",
    "plt.ylim([-1, 1])\n",
    "plt.title(f'Epochs: {epochs}')\n",
    "plt.legend(loc=1)\n",
    "plt.grid(True, alpha=0.3)\n",
    "plt.savefig('grafico-oha.jpg')\n",
    "plt.show()"
   ]
  }
 ],
 "metadata": {
  "kernelspec": {
   "display_name": "pytorch-cuda11.3",
   "language": "python",
   "name": "python3"
  },
  "language_info": {
   "codemirror_mode": {
    "name": "ipython",
    "version": 3
   },
   "file_extension": ".py",
   "mimetype": "text/x-python",
   "name": "python",
   "nbconvert_exporter": "python",
   "pygments_lexer": "ipython3",
   "version": "3.9.12"
  },
  "orig_nbformat": 4,
  "vscode": {
   "interpreter": {
    "hash": "1ecf4855ac3054153cb32a566375621934de42d4bb3f19a1ac18025b10a022b6"
   }
  }
 },
 "nbformat": 4,
 "nbformat_minor": 2
}
